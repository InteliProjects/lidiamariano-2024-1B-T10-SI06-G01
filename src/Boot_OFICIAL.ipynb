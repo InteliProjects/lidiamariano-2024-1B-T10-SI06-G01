{
  "cells": [
    {
      "cell_type": "markdown",
      "metadata": {
        "id": "4HvAqwwa0YZj"
      },
      "source": [
        "## Setup"
      ]
    },
    {
      "cell_type": "markdown",
      "metadata": {
        "id": "sp3uT5az0r4K"
      },
      "source": [
        "All libraries that are used throughout the code."
      ]
    },
    {
      "cell_type": "code",
      "execution_count": 12,
      "metadata": {
        "colab": {
          "base_uri": "https://localhost:8080/"
        },
        "id": "oraxNnjo0WEM",
        "outputId": "4f94b2ba-c226-4e36-9518-3088c218fc28"
      },
      "outputs": [
        {
          "name": "stdout",
          "output_type": "stream",
          "text": [
            "Requirement already satisfied: numpy in /usr/local/lib/python3.10/dist-packages (1.25.2)\n",
            "Requirement already satisfied: matplotlib in /usr/local/lib/python3.10/dist-packages (3.7.1)\n",
            "Requirement already satisfied: contourpy>=1.0.1 in /usr/local/lib/python3.10/dist-packages (from matplotlib) (1.2.1)\n",
            "Requirement already satisfied: cycler>=0.10 in /usr/local/lib/python3.10/dist-packages (from matplotlib) (0.12.1)\n",
            "Requirement already satisfied: fonttools>=4.22.0 in /usr/local/lib/python3.10/dist-packages (from matplotlib) (4.53.0)\n",
            "Requirement already satisfied: kiwisolver>=1.0.1 in /usr/local/lib/python3.10/dist-packages (from matplotlib) (1.4.5)\n",
            "Requirement already satisfied: numpy>=1.20 in /usr/local/lib/python3.10/dist-packages (from matplotlib) (1.25.2)\n",
            "Requirement already satisfied: packaging>=20.0 in /usr/local/lib/python3.10/dist-packages (from matplotlib) (24.0)\n",
            "Requirement already satisfied: pillow>=6.2.0 in /usr/local/lib/python3.10/dist-packages (from matplotlib) (9.4.0)\n",
            "Requirement already satisfied: pyparsing>=2.3.1 in /usr/local/lib/python3.10/dist-packages (from matplotlib) (3.1.2)\n",
            "Requirement already satisfied: python-dateutil>=2.7 in /usr/local/lib/python3.10/dist-packages (from matplotlib) (2.8.2)\n",
            "Requirement already satisfied: six>=1.5 in /usr/local/lib/python3.10/dist-packages (from python-dateutil>=2.7->matplotlib) (1.16.0)\n",
            "Requirement already satisfied: scikit-learn in /usr/local/lib/python3.10/dist-packages (1.2.2)\n",
            "Requirement already satisfied: numpy>=1.17.3 in /usr/local/lib/python3.10/dist-packages (from scikit-learn) (1.25.2)\n",
            "Requirement already satisfied: scipy>=1.3.2 in /usr/local/lib/python3.10/dist-packages (from scikit-learn) (1.11.4)\n",
            "Requirement already satisfied: joblib>=1.1.1 in /usr/local/lib/python3.10/dist-packages (from scikit-learn) (1.4.2)\n",
            "Requirement already satisfied: threadpoolctl>=2.0.0 in /usr/local/lib/python3.10/dist-packages (from scikit-learn) (3.5.0)\n",
            "Requirement already satisfied: seaborn in /usr/local/lib/python3.10/dist-packages (0.13.1)\n",
            "Requirement already satisfied: numpy!=1.24.0,>=1.20 in /usr/local/lib/python3.10/dist-packages (from seaborn) (1.25.2)\n",
            "Requirement already satisfied: pandas>=1.2 in /usr/local/lib/python3.10/dist-packages (from seaborn) (2.0.3)\n",
            "Requirement already satisfied: matplotlib!=3.6.1,>=3.4 in /usr/local/lib/python3.10/dist-packages (from seaborn) (3.7.1)\n",
            "Requirement already satisfied: contourpy>=1.0.1 in /usr/local/lib/python3.10/dist-packages (from matplotlib!=3.6.1,>=3.4->seaborn) (1.2.1)\n",
            "Requirement already satisfied: cycler>=0.10 in /usr/local/lib/python3.10/dist-packages (from matplotlib!=3.6.1,>=3.4->seaborn) (0.12.1)\n",
            "Requirement already satisfied: fonttools>=4.22.0 in /usr/local/lib/python3.10/dist-packages (from matplotlib!=3.6.1,>=3.4->seaborn) (4.53.0)\n",
            "Requirement already satisfied: kiwisolver>=1.0.1 in /usr/local/lib/python3.10/dist-packages (from matplotlib!=3.6.1,>=3.4->seaborn) (1.4.5)\n",
            "Requirement already satisfied: packaging>=20.0 in /usr/local/lib/python3.10/dist-packages (from matplotlib!=3.6.1,>=3.4->seaborn) (24.0)\n",
            "Requirement already satisfied: pillow>=6.2.0 in /usr/local/lib/python3.10/dist-packages (from matplotlib!=3.6.1,>=3.4->seaborn) (9.4.0)\n",
            "Requirement already satisfied: pyparsing>=2.3.1 in /usr/local/lib/python3.10/dist-packages (from matplotlib!=3.6.1,>=3.4->seaborn) (3.1.2)\n",
            "Requirement already satisfied: python-dateutil>=2.7 in /usr/local/lib/python3.10/dist-packages (from matplotlib!=3.6.1,>=3.4->seaborn) (2.8.2)\n",
            "Requirement already satisfied: pytz>=2020.1 in /usr/local/lib/python3.10/dist-packages (from pandas>=1.2->seaborn) (2023.4)\n",
            "Requirement already satisfied: tzdata>=2022.1 in /usr/local/lib/python3.10/dist-packages (from pandas>=1.2->seaborn) (2024.1)\n",
            "Requirement already satisfied: six>=1.5 in /usr/local/lib/python3.10/dist-packages (from python-dateutil>=2.7->matplotlib!=3.6.1,>=3.4->seaborn) (1.16.0)\n",
            "Requirement already satisfied: keras in /usr/local/lib/python3.10/dist-packages (2.15.0)\n",
            "Requirement already satisfied: tensorflow in /usr/local/lib/python3.10/dist-packages (2.15.0)\n",
            "Requirement already satisfied: absl-py>=1.0.0 in /usr/local/lib/python3.10/dist-packages (from tensorflow) (1.4.0)\n",
            "Requirement already satisfied: astunparse>=1.6.0 in /usr/local/lib/python3.10/dist-packages (from tensorflow) (1.6.3)\n",
            "Requirement already satisfied: flatbuffers>=23.5.26 in /usr/local/lib/python3.10/dist-packages (from tensorflow) (24.3.25)\n",
            "Requirement already satisfied: gast!=0.5.0,!=0.5.1,!=0.5.2,>=0.2.1 in /usr/local/lib/python3.10/dist-packages (from tensorflow) (0.5.4)\n",
            "Requirement already satisfied: google-pasta>=0.1.1 in /usr/local/lib/python3.10/dist-packages (from tensorflow) (0.2.0)\n",
            "Requirement already satisfied: h5py>=2.9.0 in /usr/local/lib/python3.10/dist-packages (from tensorflow) (3.9.0)\n",
            "Requirement already satisfied: libclang>=13.0.0 in /usr/local/lib/python3.10/dist-packages (from tensorflow) (18.1.1)\n",
            "Requirement already satisfied: ml-dtypes~=0.2.0 in /usr/local/lib/python3.10/dist-packages (from tensorflow) (0.2.0)\n",
            "Requirement already satisfied: numpy<2.0.0,>=1.23.5 in /usr/local/lib/python3.10/dist-packages (from tensorflow) (1.25.2)\n",
            "Requirement already satisfied: opt-einsum>=2.3.2 in /usr/local/lib/python3.10/dist-packages (from tensorflow) (3.3.0)\n",
            "Requirement already satisfied: packaging in /usr/local/lib/python3.10/dist-packages (from tensorflow) (24.0)\n",
            "Requirement already satisfied: protobuf!=4.21.0,!=4.21.1,!=4.21.2,!=4.21.3,!=4.21.4,!=4.21.5,<5.0.0dev,>=3.20.3 in /usr/local/lib/python3.10/dist-packages (from tensorflow) (3.20.3)\n",
            "Requirement already satisfied: setuptools in /usr/local/lib/python3.10/dist-packages (from tensorflow) (67.7.2)\n",
            "Requirement already satisfied: six>=1.12.0 in /usr/local/lib/python3.10/dist-packages (from tensorflow) (1.16.0)\n",
            "Requirement already satisfied: termcolor>=1.1.0 in /usr/local/lib/python3.10/dist-packages (from tensorflow) (2.4.0)\n",
            "Requirement already satisfied: typing-extensions>=3.6.6 in /usr/local/lib/python3.10/dist-packages (from tensorflow) (4.12.1)\n",
            "Requirement already satisfied: wrapt<1.15,>=1.11.0 in /usr/local/lib/python3.10/dist-packages (from tensorflow) (1.14.1)\n",
            "Requirement already satisfied: tensorflow-io-gcs-filesystem>=0.23.1 in /usr/local/lib/python3.10/dist-packages (from tensorflow) (0.37.0)\n",
            "Requirement already satisfied: grpcio<2.0,>=1.24.3 in /usr/local/lib/python3.10/dist-packages (from tensorflow) (1.64.1)\n",
            "Requirement already satisfied: tensorboard<2.16,>=2.15 in /usr/local/lib/python3.10/dist-packages (from tensorflow) (2.15.2)\n",
            "Requirement already satisfied: tensorflow-estimator<2.16,>=2.15.0 in /usr/local/lib/python3.10/dist-packages (from tensorflow) (2.15.0)\n",
            "Requirement already satisfied: keras<2.16,>=2.15.0 in /usr/local/lib/python3.10/dist-packages (from tensorflow) (2.15.0)\n",
            "Requirement already satisfied: wheel<1.0,>=0.23.0 in /usr/local/lib/python3.10/dist-packages (from astunparse>=1.6.0->tensorflow) (0.43.0)\n",
            "Requirement already satisfied: google-auth<3,>=1.6.3 in /usr/local/lib/python3.10/dist-packages (from tensorboard<2.16,>=2.15->tensorflow) (2.27.0)\n",
            "Requirement already satisfied: google-auth-oauthlib<2,>=0.5 in /usr/local/lib/python3.10/dist-packages (from tensorboard<2.16,>=2.15->tensorflow) (1.2.0)\n",
            "Requirement already satisfied: markdown>=2.6.8 in /usr/local/lib/python3.10/dist-packages (from tensorboard<2.16,>=2.15->tensorflow) (3.6)\n",
            "Requirement already satisfied: requests<3,>=2.21.0 in /usr/local/lib/python3.10/dist-packages (from tensorboard<2.16,>=2.15->tensorflow) (2.31.0)\n",
            "Requirement already satisfied: tensorboard-data-server<0.8.0,>=0.7.0 in /usr/local/lib/python3.10/dist-packages (from tensorboard<2.16,>=2.15->tensorflow) (0.7.2)\n",
            "Requirement already satisfied: werkzeug>=1.0.1 in /usr/local/lib/python3.10/dist-packages (from tensorboard<2.16,>=2.15->tensorflow) (3.0.3)\n",
            "Requirement already satisfied: cachetools<6.0,>=2.0.0 in /usr/local/lib/python3.10/dist-packages (from google-auth<3,>=1.6.3->tensorboard<2.16,>=2.15->tensorflow) (5.3.3)\n",
            "Requirement already satisfied: pyasn1-modules>=0.2.1 in /usr/local/lib/python3.10/dist-packages (from google-auth<3,>=1.6.3->tensorboard<2.16,>=2.15->tensorflow) (0.4.0)\n",
            "Requirement already satisfied: rsa<5,>=3.1.4 in /usr/local/lib/python3.10/dist-packages (from google-auth<3,>=1.6.3->tensorboard<2.16,>=2.15->tensorflow) (4.9)\n",
            "Requirement already satisfied: requests-oauthlib>=0.7.0 in /usr/local/lib/python3.10/dist-packages (from google-auth-oauthlib<2,>=0.5->tensorboard<2.16,>=2.15->tensorflow) (1.3.1)\n",
            "Requirement already satisfied: charset-normalizer<4,>=2 in /usr/local/lib/python3.10/dist-packages (from requests<3,>=2.21.0->tensorboard<2.16,>=2.15->tensorflow) (3.3.2)\n",
            "Requirement already satisfied: idna<4,>=2.5 in /usr/local/lib/python3.10/dist-packages (from requests<3,>=2.21.0->tensorboard<2.16,>=2.15->tensorflow) (3.7)\n",
            "Requirement already satisfied: urllib3<3,>=1.21.1 in /usr/local/lib/python3.10/dist-packages (from requests<3,>=2.21.0->tensorboard<2.16,>=2.15->tensorflow) (2.0.7)\n",
            "Requirement already satisfied: certifi>=2017.4.17 in /usr/local/lib/python3.10/dist-packages (from requests<3,>=2.21.0->tensorboard<2.16,>=2.15->tensorflow) (2024.6.2)\n",
            "Requirement already satisfied: MarkupSafe>=2.1.1 in /usr/local/lib/python3.10/dist-packages (from werkzeug>=1.0.1->tensorboard<2.16,>=2.15->tensorflow) (2.1.5)\n",
            "Requirement already satisfied: pyasn1<0.7.0,>=0.4.6 in /usr/local/lib/python3.10/dist-packages (from pyasn1-modules>=0.2.1->google-auth<3,>=1.6.3->tensorboard<2.16,>=2.15->tensorflow) (0.6.0)\n",
            "Requirement already satisfied: oauthlib>=3.0.0 in /usr/local/lib/python3.10/dist-packages (from requests-oauthlib>=0.7.0->google-auth-oauthlib<2,>=0.5->tensorboard<2.16,>=2.15->tensorflow) (3.2.2)\n",
            "Requirement already satisfied: plotly_express in /usr/local/lib/python3.10/dist-packages (0.4.1)\n",
            "Requirement already satisfied: pandas>=0.20.0 in /usr/local/lib/python3.10/dist-packages (from plotly_express) (2.0.3)\n",
            "Requirement already satisfied: plotly>=4.1.0 in /usr/local/lib/python3.10/dist-packages (from plotly_express) (5.15.0)\n",
            "Requirement already satisfied: statsmodels>=0.9.0 in /usr/local/lib/python3.10/dist-packages (from plotly_express) (0.14.2)\n",
            "Requirement already satisfied: scipy>=0.18 in /usr/local/lib/python3.10/dist-packages (from plotly_express) (1.11.4)\n",
            "Requirement already satisfied: patsy>=0.5 in /usr/local/lib/python3.10/dist-packages (from plotly_express) (0.5.6)\n",
            "Requirement already satisfied: numpy>=1.11 in /usr/local/lib/python3.10/dist-packages (from plotly_express) (1.25.2)\n",
            "Requirement already satisfied: python-dateutil>=2.8.2 in /usr/local/lib/python3.10/dist-packages (from pandas>=0.20.0->plotly_express) (2.8.2)\n",
            "Requirement already satisfied: pytz>=2020.1 in /usr/local/lib/python3.10/dist-packages (from pandas>=0.20.0->plotly_express) (2023.4)\n",
            "Requirement already satisfied: tzdata>=2022.1 in /usr/local/lib/python3.10/dist-packages (from pandas>=0.20.0->plotly_express) (2024.1)\n",
            "Requirement already satisfied: six in /usr/local/lib/python3.10/dist-packages (from patsy>=0.5->plotly_express) (1.16.0)\n",
            "Requirement already satisfied: tenacity>=6.2.0 in /usr/local/lib/python3.10/dist-packages (from plotly>=4.1.0->plotly_express) (8.3.0)\n",
            "Requirement already satisfied: packaging in /usr/local/lib/python3.10/dist-packages (from plotly>=4.1.0->plotly_express) (24.0)\n",
            "Requirement already satisfied: nltk in /usr/local/lib/python3.10/dist-packages (3.8.1)\n",
            "Requirement already satisfied: click in /usr/local/lib/python3.10/dist-packages (from nltk) (8.1.7)\n",
            "Requirement already satisfied: joblib in /usr/local/lib/python3.10/dist-packages (from nltk) (1.4.2)\n",
            "Requirement already satisfied: regex>=2021.8.3 in /usr/local/lib/python3.10/dist-packages (from nltk) (2024.5.15)\n",
            "Requirement already satisfied: tqdm in /usr/local/lib/python3.10/dist-packages (from nltk) (4.66.4)\n",
            "Requirement already satisfied: gensim in /usr/local/lib/python3.10/dist-packages (4.3.2)\n",
            "Requirement already satisfied: numpy>=1.18.5 in /usr/local/lib/python3.10/dist-packages (from gensim) (1.25.2)\n",
            "Requirement already satisfied: scipy>=1.7.0 in /usr/local/lib/python3.10/dist-packages (from gensim) (1.11.4)\n",
            "Requirement already satisfied: smart-open>=1.8.1 in /usr/local/lib/python3.10/dist-packages (from gensim) (6.4.0)\n",
            "Requirement already satisfied: gdown in /usr/local/lib/python3.10/dist-packages (5.1.0)\n",
            "Requirement already satisfied: beautifulsoup4 in /usr/local/lib/python3.10/dist-packages (from gdown) (4.12.3)\n",
            "Requirement already satisfied: filelock in /usr/local/lib/python3.10/dist-packages (from gdown) (3.14.0)\n",
            "Requirement already satisfied: requests[socks] in /usr/local/lib/python3.10/dist-packages (from gdown) (2.31.0)\n",
            "Requirement already satisfied: tqdm in /usr/local/lib/python3.10/dist-packages (from gdown) (4.66.4)\n",
            "Requirement already satisfied: soupsieve>1.2 in /usr/local/lib/python3.10/dist-packages (from beautifulsoup4->gdown) (2.5)\n",
            "Requirement already satisfied: charset-normalizer<4,>=2 in /usr/local/lib/python3.10/dist-packages (from requests[socks]->gdown) (3.3.2)\n",
            "Requirement already satisfied: idna<4,>=2.5 in /usr/local/lib/python3.10/dist-packages (from requests[socks]->gdown) (3.7)\n",
            "Requirement already satisfied: urllib3<3,>=1.21.1 in /usr/local/lib/python3.10/dist-packages (from requests[socks]->gdown) (2.0.7)\n",
            "Requirement already satisfied: certifi>=2017.4.17 in /usr/local/lib/python3.10/dist-packages (from requests[socks]->gdown) (2024.6.2)\n",
            "Requirement already satisfied: PySocks!=1.5.7,>=1.5.6 in /usr/local/lib/python3.10/dist-packages (from requests[socks]->gdown) (1.7.1)\n",
            "Requirement already satisfied: fasttext in /usr/local/lib/python3.10/dist-packages (0.9.2)\n",
            "Requirement already satisfied: pybind11>=2.2 in /usr/local/lib/python3.10/dist-packages (from fasttext) (2.12.0)\n",
            "Requirement already satisfied: setuptools>=0.7.0 in /usr/local/lib/python3.10/dist-packages (from fasttext) (67.7.2)\n",
            "Requirement already satisfied: numpy in /usr/local/lib/python3.10/dist-packages (from fasttext) (1.25.2)\n",
            "Requirement already satisfied: imbalanced-learn in /usr/local/lib/python3.10/dist-packages (0.10.1)\n",
            "Requirement already satisfied: numpy>=1.17.3 in /usr/local/lib/python3.10/dist-packages (from imbalanced-learn) (1.25.2)\n",
            "Requirement already satisfied: scipy>=1.3.2 in /usr/local/lib/python3.10/dist-packages (from imbalanced-learn) (1.11.4)\n",
            "Requirement already satisfied: scikit-learn>=1.0.2 in /usr/local/lib/python3.10/dist-packages (from imbalanced-learn) (1.2.2)\n",
            "Requirement already satisfied: joblib>=1.1.1 in /usr/local/lib/python3.10/dist-packages (from imbalanced-learn) (1.4.2)\n",
            "Requirement already satisfied: threadpoolctl>=2.0.0 in /usr/local/lib/python3.10/dist-packages (from imbalanced-learn) (3.5.0)\n",
            "Requirement already satisfied: nltk in /usr/local/lib/python3.10/dist-packages (3.8.1)\n",
            "Requirement already satisfied: pandas in /usr/local/lib/python3.10/dist-packages (2.0.3)\n",
            "Requirement already satisfied: click in /usr/local/lib/python3.10/dist-packages (from nltk) (8.1.7)\n",
            "Requirement already satisfied: joblib in /usr/local/lib/python3.10/dist-packages (from nltk) (1.4.2)\n",
            "Requirement already satisfied: regex>=2021.8.3 in /usr/local/lib/python3.10/dist-packages (from nltk) (2024.5.15)\n",
            "Requirement already satisfied: tqdm in /usr/local/lib/python3.10/dist-packages (from nltk) (4.66.4)\n",
            "Requirement already satisfied: python-dateutil>=2.8.2 in /usr/local/lib/python3.10/dist-packages (from pandas) (2.8.2)\n",
            "Requirement already satisfied: pytz>=2020.1 in /usr/local/lib/python3.10/dist-packages (from pandas) (2023.4)\n",
            "Requirement already satisfied: tzdata>=2022.1 in /usr/local/lib/python3.10/dist-packages (from pandas) (2024.1)\n",
            "Requirement already satisfied: numpy>=1.21.0 in /usr/local/lib/python3.10/dist-packages (from pandas) (1.25.2)\n",
            "Requirement already satisfied: six>=1.5 in /usr/local/lib/python3.10/dist-packages (from python-dateutil>=2.8.2->pandas) (1.16.0)\n",
            "Requirement already satisfied: pickle-mixin in /usr/local/lib/python3.10/dist-packages (1.0.2)\n"
          ]
        }
      ],
      "source": [
        "%pip install numpy\n",
        "%pip install matplotlib\n",
        "%pip install scikit-learn\n",
        "%pip install seaborn\n",
        "%pip install keras\n",
        "%pip install tensorflow\n",
        "%pip install plotly_express\n",
        "%pip install nltk\n",
        "%pip install gensim\n",
        "%pip install gdown\n",
        "%pip install fasttext\n",
        "%pip install imbalanced-learn\n",
        "%pip install nltk pandas\n",
        "%pip install pickle-mixin"
      ]
    },
    {
      "cell_type": "code",
      "execution_count": 32,
      "metadata": {
        "id": "i6u5JGgs0xtE"
      },
      "outputs": [],
      "source": [
        "import pandas as pd\n",
        "import numpy as np\n",
        "import matplotlib.pyplot as plt\n",
        "from sklearn.model_selection import StratifiedKFold, learning_curve\n",
        "import seaborn as sns\n",
        "from sklearn import svm\n",
        "from sklearn.metrics import accuracy_score, precision_score, recall_score, fbeta_score, confusion_matrix, make_scorer, cohen_kappa_score, classification_report\n",
        "from sklearn.model_selection import GridSearchCV, cross_val_score, cross_val_predict, train_test_split\n",
        "from imblearn.over_sampling import SMOTE\n",
        "import nltk\n",
        "from nltk.corpus import stopwords\n",
        "from nltk.tokenize import word_tokenize\n",
        "from nltk.stem import WordNetLemmatizer\n",
        "import re\n",
        "import string\n",
        "import fasttext\n",
        "import gdown\n",
        "import os\n",
        "from sklearn.svm import SVC\n",
        "import pickle"
      ]
    },
    {
      "cell_type": "code",
      "execution_count": 33,
      "metadata": {
        "colab": {
          "base_uri": "https://localhost:8080/"
        },
        "id": "0nUMbGEPzUng",
        "outputId": "ca6a0323-25d5-445a-b6c5-ce1c4f583c3a"
      },
      "outputs": [
        {
          "name": "stderr",
          "output_type": "stream",
          "text": [
            "[nltk_data] Downloading package punkt to /root/nltk_data...\n",
            "[nltk_data]   Package punkt is already up-to-date!\n",
            "[nltk_data] Downloading package stopwords to /root/nltk_data...\n",
            "[nltk_data]   Package stopwords is already up-to-date!\n",
            "[nltk_data] Downloading package wordnet to /root/nltk_data...\n",
            "[nltk_data]   Package wordnet is already up-to-date!\n"
          ]
        },
        {
          "data": {
            "text/plain": [
              "True"
            ]
          },
          "execution_count": 3,
          "metadata": {},
          "execution_count": 3
        }
      ],
      "source": [
        "# Download necessary NLTK resources\n",
        "nltk.download('punkt')\n",
        "nltk.download('stopwords')\n",
        "nltk.download('wordnet')"
      ]
    },
    {
      "cell_type": "markdown",
      "metadata": {
        "id": "WugfP9RpLuYI"
      },
      "source": [
        "# FastText + SVM\n",
        "\n",
        "\n"
      ]
    },
    {
      "cell_type": "markdown",
      "metadata": {
        "id": "c9ZDVY59LwWc"
      },
      "source": [
        "In this approach, we combine the power of the FastText model for word representation with the effectiveness of the SVM classifier to perform sentiment classification on Uber comments. FastText allows capturing rich semantic information, while SVM is adept at finding patterns in high-dimensional spaces. Together, these models can process comments, extract their semantic features, and classify their sentiments accurately. Training is performed by tuning the hyperparameters of FastText and SVM, followed by evaluating the model's performance using metrics such as precision, recall, and F1-score. This combination provides an effective way to understand and classify the sentiments expressed by users in Uber comments.\n"
      ]
    },
    {
      "cell_type": "markdown",
      "metadata": {
        "id": "4SSNXEzYLya9"
      },
      "source": [
        "In this section, we delve into advanced techniques to enhance the performance of our text classification model using FastText combined with Support Vector Machines (SVM). We explore the utilization of Hierarchical Softmax (HS) in FastText, the incorporation of word bigrams for improved feature representation, and the significance of performing text preprocessing within the FastText+SVM pipeline.\n",
        "\n",
        "1. Hierarchical Softmax:\n",
        "Hierarchical Softmax is a specialized loss function utilized in FastText for more efficient training and prediction processes. Unlike traditional softmax, which computes probabilities for each label independently, Hierarchical Softmax organizes labels into a hierarchical structure, significantly reducing the computational complexity by efficiently traversing the label hierarchy during training and prediction. This enables faster training and inference, particularly beneficial when dealing with large datasets and numerous labels.\n",
        "\n",
        "2. Utilizing Word Bigrams:\n",
        "Incorporating word bigrams, sequences of two adjacent words, allows our model to capture more contextual information and linguistic nuances present in the text data. By considering word pairs instead of individual words, the model gains a richer understanding of language patterns and dependencies, leading to enhanced classification accuracy, especially in tasks where the order of words is crucial, such as sentiment analysis and document categorization.\n",
        "\n",
        "3. Preprocessing Within FastText+SVM Section:\n",
        "While the notebook initially includes text preprocessing steps, we opt to integrate the preprocessing directly into the FastText+SVM pipeline. By doing so, we ensure consistency in the preprocessing techniques applied across the entire workflow. Additionally, embedding preprocessing within the training pipeline facilitates seamless model deployment and reduces the complexity of managing multiple preprocessing steps independently. This streamlined approach improves code readability, maintainability, and scalability of the classification system.\n",
        "\n"
      ]
    },
    {
      "cell_type": "markdown",
      "metadata": {
        "id": "ArNDRIgFL2y5"
      },
      "source": [
        "This function preprocesses the input text by converting it to lowercase, removing punctuation and numbers, tokenizing the text, and removing stop words using NLTK.\n"
      ]
    },
    {
      "cell_type": "markdown",
      "metadata": {
        "id": "HmCpwE6dzBvZ"
      },
      "source": [
        "**Function Upload:** The upload function loads data from a specified CSV file and returns it as a pandas DataFrame.\n",
        "\n"
      ]
    },
    {
      "cell_type": "code",
      "execution_count": 4,
      "metadata": {
        "id": "ikbdV0DRy5KS"
      },
      "outputs": [],
      "source": [
        "def upload(file_path):\n",
        "    \"\"\"\n",
        "    Load data from a CSV file.\n",
        "\n",
        "    Args:\n",
        "        file_path (str): Path to the CSV file.\n",
        "\n",
        "    Returns:\n",
        "        pd.DataFrame: Loaded data.\n",
        "    \"\"\"\n",
        "    folder_id = '1DMy1eWI-45E-N08ez_7r5PMcu4Hk-YJC' # Aqui é o id da pasta\n",
        "    url = f'https://drive.google.com/drive/folders/{folder_id}?usp=sharing'\n",
        "    gdown.download_folder(url, quiet=False, use_cookies=False)\n",
        "    file_path_full = os.path.join(\"Grupo1\", file_path) # Ajuste para procurar na subpasta \"Grupo1\"\n",
        "    if os.path.exists(file_path_full):\n",
        "        try:\n",
        "            return pd.read_csv(file_path_full, sep=\";\")\n",
        "        except pd.errors.ParserError:\n",
        "            print(f\"Erro ao tentar ler o arquivo {file_path_full}. Tentando ajustar o delimitador.\")\n",
        "            with open(file_path_full, 'r') as file:\n",
        "                lines = file.readlines()\n",
        "            with open(file_path_full, 'w') as file:\n",
        "                for line in lines:\n",
        "                    if line.count(';') == 2:  # Ajustar para o número correto de delimitadores\n",
        "                        file.write(line)\n",
        "            return pd.read_csv(file_path_full, sep=\";\")\n",
        "    else:\n",
        "        raise FileNotFoundError(f\"O arquivo {file_path} não foi encontrado na pasta do Google Drive.\")\n"
      ]
    },
    {
      "cell_type": "markdown",
      "metadata": {
        "id": "TXQGaezDzYbZ"
      },
      "source": [
        "**Function preprocess:** The preprocess function performs several text preprocessing steps: converting to lowercase, removing punctuation and numbers, tokenizing the text, and removing stopwords."
      ]
    },
    {
      "cell_type": "code",
      "execution_count": 7,
      "metadata": {},
      "outputs": [],
      "source": [
        "def check_and_remove_null_rows(df, column_name):\n",
        "    \"\"\"\n",
        "    Check for rows with null values in the specified column, display them,\n",
        "    and then remove them from the DataFrame.\n",
        "\n",
        "    Args:\n",
        "        df (pd.DataFrame): The DataFrame to process.\n",
        "        column_name (str): The name of the column to check for null values.\n",
        "\n",
        "    Returns:\n",
        "        pd.DataFrame: The DataFrame with null rows removed.\n",
        "    \"\"\"\n",
        "\n",
        "    null_rows = df[df[column_name].isnull()]\n",
        "    \n",
        "    if not null_rows.empty:\n",
        "        print(\"Linhas com valores nulos na coluna '{}':\".format(column_name))\n",
        "        print(null_rows)\n",
        "    \n",
        "\n",
        "    df_cleaned = df.dropna(subset=[column_name])\n",
        "    \n",
        "    return df_cleaned\n"
      ]
    },
    {
      "cell_type": "code",
      "execution_count": 11,
      "metadata": {},
      "outputs": [
        {
          "name": "stderr",
          "output_type": "stream",
          "text": [
            "Retrieving folder contents\n"
          ]
        },
        {
          "name": "stdout",
          "output_type": "stream",
          "text": [
            "Processing file 14J4SVACOgdDekdAZ239-UhQOpkzhJiMt classification-labeled.csv\n",
            "Processing file 16Zw3ePSceYUSexoDospfzTIVIYwPsX4F new_dataset.csv\n"
          ]
        },
        {
          "name": "stderr",
          "output_type": "stream",
          "text": [
            "Retrieving folder contents completed\n",
            "Building directory structure\n",
            "Building directory structure completed\n",
            "Downloading...\n",
            "From: https://drive.google.com/uc?id=14J4SVACOgdDekdAZ239-UhQOpkzhJiMt\n",
            "To: c:\\Users\\Inteli\\Documents\\GitHub\\2024-1B-T10-SI06-G01\\src\\Grupo1\\classification-labeled.csv\n",
            "100%|██████████| 421k/421k [00:00<00:00, 1.40MB/s]\n",
            "Downloading...\n",
            "From: https://drive.google.com/uc?id=16Zw3ePSceYUSexoDospfzTIVIYwPsX4F\n",
            "To: c:\\Users\\Inteli\\Documents\\GitHub\\2024-1B-T10-SI06-G01\\src\\Grupo1\\new_dataset.csv\n",
            "100%|██████████| 23.8k/23.8k [00:00<00:00, 134kB/s]\n",
            "Download completed\n"
          ]
        },
        {
          "data": {
            "text/plain": [
              "        id                                            comment  sentiment\n",
              "0        1     That, my friend, is why The Mighty Swift Ra...          0\n",
              "1        2  Spent 20 minutes in an Uber listening to what ...          0\n",
              "2        3  via The Guardian  Guardian front page, Monday ...         -1\n",
              "3        4  My real job is being my girlfriends personal U...          0\n",
              "4        5               i had a bad drive . i want my refund         -1\n",
              "...    ...                                                ...        ...\n",
              "2871  3519  Top story: Uber broke laws, duped police and s...         -1\n",
              "2872  3521  Top story: Uber broke laws, duped police and s...         -1\n",
              "2873  3522  Top story: Uber broke laws, duped police and s...         -1\n",
              "2874  3523  reading about this uber leak reminded me how f...         -1\n",
              "2875  3526  It?s clear that Uber broke laws&amp; behaved a...         -1\n",
              "\n",
              "[2876 rows x 3 columns]"
            ],
            "text/html": [
              "<div>\n",
              "<style scoped>\n",
              "    .dataframe tbody tr th:only-of-type {\n",
              "        vertical-align: middle;\n",
              "    }\n",
              "\n",
              "    .dataframe tbody tr th {\n",
              "        vertical-align: top;\n",
              "    }\n",
              "\n",
              "    .dataframe thead th {\n",
              "        text-align: right;\n",
              "    }\n",
              "</style>\n",
              "<table border=\"1\" class=\"dataframe\">\n",
              "  <thead>\n",
              "    <tr style=\"text-align: right;\">\n",
              "      <th></th>\n",
              "      <th>id</th>\n",
              "      <th>comment</th>\n",
              "      <th>sentiment</th>\n",
              "    </tr>\n",
              "  </thead>\n",
              "  <tbody>\n",
              "    <tr>\n",
              "      <th>0</th>\n",
              "      <td>1</td>\n",
              "      <td>That, my friend, is why The Mighty Swift Ra...</td>\n",
              "      <td>0</td>\n",
              "    </tr>\n",
              "    <tr>\n",
              "      <th>1</th>\n",
              "      <td>2</td>\n",
              "      <td>Spent 20 minutes in an Uber listening to what ...</td>\n",
              "      <td>0</td>\n",
              "    </tr>\n",
              "    <tr>\n",
              "      <th>2</th>\n",
              "      <td>3</td>\n",
              "      <td>via The Guardian  Guardian front page, Monday ...</td>\n",
              "      <td>-1</td>\n",
              "    </tr>\n",
              "    <tr>\n",
              "      <th>3</th>\n",
              "      <td>4</td>\n",
              "      <td>My real job is being my girlfriends personal U...</td>\n",
              "      <td>0</td>\n",
              "    </tr>\n",
              "    <tr>\n",
              "      <th>4</th>\n",
              "      <td>5</td>\n",
              "      <td>i had a bad drive . i want my refund</td>\n",
              "      <td>-1</td>\n",
              "    </tr>\n",
              "    <tr>\n",
              "      <th>...</th>\n",
              "      <td>...</td>\n",
              "      <td>...</td>\n",
              "      <td>...</td>\n",
              "    </tr>\n",
              "    <tr>\n",
              "      <th>2871</th>\n",
              "      <td>3519</td>\n",
              "      <td>Top story: Uber broke laws, duped police and s...</td>\n",
              "      <td>-1</td>\n",
              "    </tr>\n",
              "    <tr>\n",
              "      <th>2872</th>\n",
              "      <td>3521</td>\n",
              "      <td>Top story: Uber broke laws, duped police and s...</td>\n",
              "      <td>-1</td>\n",
              "    </tr>\n",
              "    <tr>\n",
              "      <th>2873</th>\n",
              "      <td>3522</td>\n",
              "      <td>Top story: Uber broke laws, duped police and s...</td>\n",
              "      <td>-1</td>\n",
              "    </tr>\n",
              "    <tr>\n",
              "      <th>2874</th>\n",
              "      <td>3523</td>\n",
              "      <td>reading about this uber leak reminded me how f...</td>\n",
              "      <td>-1</td>\n",
              "    </tr>\n",
              "    <tr>\n",
              "      <th>2875</th>\n",
              "      <td>3526</td>\n",
              "      <td>It?s clear that Uber broke laws&amp;amp; behaved a...</td>\n",
              "      <td>-1</td>\n",
              "    </tr>\n",
              "  </tbody>\n",
              "</table>\n",
              "<p>2876 rows × 3 columns</p>\n",
              "</div>\n",
              "    <div class=\"colab-df-buttons\">\n",
              "\n",
              "  <div class=\"colab-df-container\">\n",
              "    <button class=\"colab-df-convert\" onclick=\"convertToInteractive('df-dc20e1d8-3d8d-4d44-809d-aa480be016a1')\"\n",
              "            title=\"Convert this dataframe to an interactive table.\"\n",
              "            style=\"display:none;\">\n",
              "\n",
              "  <svg xmlns=\"http://www.w3.org/2000/svg\" height=\"24px\" viewBox=\"0 -960 960 960\">\n",
              "    <path d=\"M120-120v-720h720v720H120Zm60-500h600v-160H180v160Zm220 220h160v-160H400v160Zm0 220h160v-160H400v160ZM180-400h160v-160H180v160Zm440 0h160v-160H620v160ZM180-180h160v-160H180v160Zm440 0h160v-160H620v160Z\"/>\n",
              "  </svg>\n",
              "    </button>\n",
              "\n",
              "  <style>\n",
              "    .colab-df-container {\n",
              "      display:flex;\n",
              "      gap: 12px;\n",
              "    }\n",
              "\n",
              "    .colab-df-convert {\n",
              "      background-color: #E8F0FE;\n",
              "      border: none;\n",
              "      border-radius: 50%;\n",
              "      cursor: pointer;\n",
              "      display: none;\n",
              "      fill: #1967D2;\n",
              "      height: 32px;\n",
              "      padding: 0 0 0 0;\n",
              "      width: 32px;\n",
              "    }\n",
              "\n",
              "    .colab-df-convert:hover {\n",
              "      background-color: #E2EBFA;\n",
              "      box-shadow: 0px 1px 2px rgba(60, 64, 67, 0.3), 0px 1px 3px 1px rgba(60, 64, 67, 0.15);\n",
              "      fill: #174EA6;\n",
              "    }\n",
              "\n",
              "    .colab-df-buttons div {\n",
              "      margin-bottom: 4px;\n",
              "    }\n",
              "\n",
              "    [theme=dark] .colab-df-convert {\n",
              "      background-color: #3B4455;\n",
              "      fill: #D2E3FC;\n",
              "    }\n",
              "\n",
              "    [theme=dark] .colab-df-convert:hover {\n",
              "      background-color: #434B5C;\n",
              "      box-shadow: 0px 1px 3px 1px rgba(0, 0, 0, 0.15);\n",
              "      filter: drop-shadow(0px 1px 2px rgba(0, 0, 0, 0.3));\n",
              "      fill: #FFFFFF;\n",
              "    }\n",
              "  </style>\n",
              "\n",
              "    <script>\n",
              "      const buttonEl =\n",
              "        document.querySelector('#df-dc20e1d8-3d8d-4d44-809d-aa480be016a1 button.colab-df-convert');\n",
              "      buttonEl.style.display =\n",
              "        google.colab.kernel.accessAllowed ? 'block' : 'none';\n",
              "\n",
              "      async function convertToInteractive(key) {\n",
              "        const element = document.querySelector('#df-dc20e1d8-3d8d-4d44-809d-aa480be016a1');\n",
              "        const dataTable =\n",
              "          await google.colab.kernel.invokeFunction('convertToInteractive',\n",
              "                                                    [key], {});\n",
              "        if (!dataTable) return;\n",
              "\n",
              "        const docLinkHtml = 'Like what you see? Visit the ' +\n",
              "          '<a target=\"_blank\" href=https://colab.research.google.com/notebooks/data_table.ipynb>data table notebook</a>'\n",
              "          + ' to learn more about interactive tables.';\n",
              "        element.innerHTML = '';\n",
              "        dataTable['output_type'] = 'display_data';\n",
              "        await google.colab.output.renderOutput(dataTable, element);\n",
              "        const docLink = document.createElement('div');\n",
              "        docLink.innerHTML = docLinkHtml;\n",
              "        element.appendChild(docLink);\n",
              "      }\n",
              "    </script>\n",
              "  </div>\n",
              "\n",
              "\n",
              "<div id=\"df-b596abb9-1e63-4031-a89e-d1d496bdb553\">\n",
              "  <button class=\"colab-df-quickchart\" onclick=\"quickchart('df-b596abb9-1e63-4031-a89e-d1d496bdb553')\"\n",
              "            title=\"Suggest charts\"\n",
              "            style=\"display:none;\">\n",
              "\n",
              "<svg xmlns=\"http://www.w3.org/2000/svg\" height=\"24px\"viewBox=\"0 0 24 24\"\n",
              "     width=\"24px\">\n",
              "    <g>\n",
              "        <path d=\"M19 3H5c-1.1 0-2 .9-2 2v14c0 1.1.9 2 2 2h14c1.1 0 2-.9 2-2V5c0-1.1-.9-2-2-2zM9 17H7v-7h2v7zm4 0h-2V7h2v10zm4 0h-2v-4h2v4z\"/>\n",
              "    </g>\n",
              "</svg>\n",
              "  </button>\n",
              "\n",
              "<style>\n",
              "  .colab-df-quickchart {\n",
              "      --bg-color: #E8F0FE;\n",
              "      --fill-color: #1967D2;\n",
              "      --hover-bg-color: #E2EBFA;\n",
              "      --hover-fill-color: #174EA6;\n",
              "      --disabled-fill-color: #AAA;\n",
              "      --disabled-bg-color: #DDD;\n",
              "  }\n",
              "\n",
              "  [theme=dark] .colab-df-quickchart {\n",
              "      --bg-color: #3B4455;\n",
              "      --fill-color: #D2E3FC;\n",
              "      --hover-bg-color: #434B5C;\n",
              "      --hover-fill-color: #FFFFFF;\n",
              "      --disabled-bg-color: #3B4455;\n",
              "      --disabled-fill-color: #666;\n",
              "  }\n",
              "\n",
              "  .colab-df-quickchart {\n",
              "    background-color: var(--bg-color);\n",
              "    border: none;\n",
              "    border-radius: 50%;\n",
              "    cursor: pointer;\n",
              "    display: none;\n",
              "    fill: var(--fill-color);\n",
              "    height: 32px;\n",
              "    padding: 0;\n",
              "    width: 32px;\n",
              "  }\n",
              "\n",
              "  .colab-df-quickchart:hover {\n",
              "    background-color: var(--hover-bg-color);\n",
              "    box-shadow: 0 1px 2px rgba(60, 64, 67, 0.3), 0 1px 3px 1px rgba(60, 64, 67, 0.15);\n",
              "    fill: var(--button-hover-fill-color);\n",
              "  }\n",
              "\n",
              "  .colab-df-quickchart-complete:disabled,\n",
              "  .colab-df-quickchart-complete:disabled:hover {\n",
              "    background-color: var(--disabled-bg-color);\n",
              "    fill: var(--disabled-fill-color);\n",
              "    box-shadow: none;\n",
              "  }\n",
              "\n",
              "  .colab-df-spinner {\n",
              "    border: 2px solid var(--fill-color);\n",
              "    border-color: transparent;\n",
              "    border-bottom-color: var(--fill-color);\n",
              "    animation:\n",
              "      spin 1s steps(1) infinite;\n",
              "  }\n",
              "\n",
              "  @keyframes spin {\n",
              "    0% {\n",
              "      border-color: transparent;\n",
              "      border-bottom-color: var(--fill-color);\n",
              "      border-left-color: var(--fill-color);\n",
              "    }\n",
              "    20% {\n",
              "      border-color: transparent;\n",
              "      border-left-color: var(--fill-color);\n",
              "      border-top-color: var(--fill-color);\n",
              "    }\n",
              "    30% {\n",
              "      border-color: transparent;\n",
              "      border-left-color: var(--fill-color);\n",
              "      border-top-color: var(--fill-color);\n",
              "      border-right-color: var(--fill-color);\n",
              "    }\n",
              "    40% {\n",
              "      border-color: transparent;\n",
              "      border-right-color: var(--fill-color);\n",
              "      border-top-color: var(--fill-color);\n",
              "    }\n",
              "    60% {\n",
              "      border-color: transparent;\n",
              "      border-right-color: var(--fill-color);\n",
              "    }\n",
              "    80% {\n",
              "      border-color: transparent;\n",
              "      border-right-color: var(--fill-color);\n",
              "      border-bottom-color: var(--fill-color);\n",
              "    }\n",
              "    90% {\n",
              "      border-color: transparent;\n",
              "      border-bottom-color: var(--fill-color);\n",
              "    }\n",
              "  }\n",
              "</style>\n",
              "\n",
              "  <script>\n",
              "    async function quickchart(key) {\n",
              "      const quickchartButtonEl =\n",
              "        document.querySelector('#' + key + ' button');\n",
              "      quickchartButtonEl.disabled = true;  // To prevent multiple clicks.\n",
              "      quickchartButtonEl.classList.add('colab-df-spinner');\n",
              "      try {\n",
              "        const charts = await google.colab.kernel.invokeFunction(\n",
              "            'suggestCharts', [key], {});\n",
              "      } catch (error) {\n",
              "        console.error('Error during call to suggestCharts:', error);\n",
              "      }\n",
              "      quickchartButtonEl.classList.remove('colab-df-spinner');\n",
              "      quickchartButtonEl.classList.add('colab-df-quickchart-complete');\n",
              "    }\n",
              "    (() => {\n",
              "      let quickchartButtonEl =\n",
              "        document.querySelector('#df-b596abb9-1e63-4031-a89e-d1d496bdb553 button');\n",
              "      quickchartButtonEl.style.display =\n",
              "        google.colab.kernel.accessAllowed ? 'block' : 'none';\n",
              "    })();\n",
              "  </script>\n",
              "</div>\n",
              "\n",
              "    </div>\n",
              "  </div>\n"
            ],
            "application/vnd.google.colaboratory.intrinsic+json": {
              "type": "dataframe",
              "summary": "{\n  \"name\": \"check_and_remove_null_rows(dataset, \\\"comment\\\")\",\n  \"rows\": 2876,\n  \"fields\": [\n    {\n      \"column\": \"id\",\n      \"properties\": {\n        \"dtype\": \"number\",\n        \"std\": 891,\n        \"min\": 1,\n        \"max\": 3526,\n        \"num_unique_values\": 2876,\n        \"samples\": [\n          888,\n          2164,\n          1637\n        ],\n        \"semantic_type\": \"\",\n        \"description\": \"\"\n      }\n    },\n    {\n      \"column\": \"comment\",\n      \"properties\": {\n        \"dtype\": \"string\",\n        \"num_unique_values\": 2868,\n        \"samples\": [\n          \"International survey on Uber | Brutal, even illegal methods in its infancy to impose  https://t.co/YsVXLh8Je2\",\n          \"My Uber driver  https://t.co/tRAWyn7qfQ\",\n          \"Uber Leak Reportedly Reveals Battles With Governments, Taxi Firms and Labor Laws  https://t.co/ps66vaErGv\"\n        ],\n        \"semantic_type\": \"\",\n        \"description\": \"\"\n      }\n    },\n    {\n      \"column\": \"sentiment\",\n      \"properties\": {\n        \"dtype\": \"number\",\n        \"std\": 0,\n        \"min\": -1,\n        \"max\": 1,\n        \"num_unique_values\": 3,\n        \"samples\": [\n          0,\n          -1,\n          1\n        ],\n        \"semantic_type\": \"\",\n        \"description\": \"\"\n      }\n    }\n  ]\n}"
            }
          },
          "metadata": {},
          "output_type": "execute_result"
        }
      ],
      "source": [
        "# testing null data function\n",
        "dataset = upload(\"classification-labeled.csv\")\n",
        "check_and_remove_null_rows(dataset, \"comment\")"
      ]
    },
    {
      "cell_type": "code",
      "execution_count": 56,
      "metadata": {
        "id": "T8tRxop2zABM"
      },
      "outputs": [],
      "source": [
        "def preprocess(text):\n",
        "    \"\"\"\n",
        "    Preprocess text by converting to lowercase, removing punctuation,\n",
        "    removing numbers, tokenizing, removing stopwords, and generating bigrams.\n",
        "\n",
        "    Args:\n",
        "        text (str): Text to be preprocessed.\n",
        "\n",
        "    Returns:\n",
        "        str: Preprocessed text with bigrams.\n",
        "    \"\"\"\n",
        "    if not text or text.strip() == \"\":\n",
        "        return None\n",
        "    \n",
        "    text = text.lower()\n",
        "    text = re.sub(r'[^\\w\\s]', '', text)\n",
        "    text = re.sub(r'\\d+', '', text)\n",
        "    words = word_tokenize(text)\n",
        "    stop_words = set(stopwords.words('english'))\n",
        "    words = [word for word in words if word not in stop_words]\n",
        "\n",
        "    # Generate bigrams\n",
        "    bigrams = [f'{words[i]}_{words[i+1]}' for i in range(len(words)-1)]\n",
        "    words.extend(bigrams)\n",
        "\n",
        "    return ' '.join(words)"
      ]
    },
    {
      "cell_type": "markdown",
      "metadata": {
        "id": "xUKAZ8mXzkB1"
      },
      "source": [
        "**Function vectorize:** The vectorize function converts preprocessed text into a vector representation using a trained FastText model."
      ]
    },
    {
      "cell_type": "code",
      "execution_count": 57,
      "metadata": {
        "id": "-RPj0Uqpzjjg"
      },
      "outputs": [],
      "source": [
        "def vectorize(text, model):\n",
        "    \"\"\"\n",
        "    Convert text to a vector using FastText.\n",
        "\n",
        "    Args:\n",
        "        text (str): Text to be converted into a vector.\n",
        "        model (fasttext.FastText._FastText): Trained FastText model.\n",
        "\n",
        "    Returns:\n",
        "        np.ndarray: Vector representing the text.\n",
        "    \"\"\"\n",
        "    words = text.split()\n",
        "    word_vectors = [model.get_word_vector(word) for word in words]\n",
        "    if word_vectors:\n",
        "        return np.mean(word_vectors, axis=0)\n",
        "    else:\n",
        "        return np.zeros(model.get_dimension())\n"
      ]
    },
    {
      "cell_type": "markdown",
      "metadata": {
        "id": "0YLtgwINzuKo"
      },
      "source": [
        "**Function predict:** The predict function uses GridSearchCV to find the best hyperparameters for an SVM model and then makes predictions on the test set using the best model."
      ]
    },
    {
      "cell_type": "code",
      "execution_count": 58,
      "metadata": {
        "id": "YzdhoUN3ztSU"
      },
      "outputs": [],
      "source": [
        "def predict(model, X_train, y_train, X_test, params):\n",
        "    \"\"\"\n",
        "    Perform prediction using SVM with GridSearchCV.\n",
        "\n",
        "    Args:\n",
        "        model (SVC): SVM model.\n",
        "        X_train (np.ndarray): Training data.\n",
        "        y_train (np.ndarray): Training labels.\n",
        "        X_test (np.ndarray): Test data.\n",
        "        params (dict): Parameters for GridSearchCV.\n",
        "\n",
        "    Returns:\n",
        "        np.ndarray: Predictions on the test set.\n",
        "        SVC: Best estimator found by GridSearchCV.\n",
        "    \"\"\"\n",
        "    grid_search = GridSearchCV(estimator=model, param_grid=params, cv=5, n_jobs=-1, scoring='accuracy')\n",
        "    grid_search.fit(X_train, y_train)\n",
        "    print(\"Best parameters found by GridSearchCV:\")\n",
        "    print(grid_search.best_params_)\n",
        "    best_model = grid_search.best_estimator_\n",
        "    y_pred = best_model.predict(X_test)\n",
        "    return y_pred, best_model"
      ]
    },
    {
      "cell_type": "markdown",
      "metadata": {
        "id": "PnfHjZoYz3F0"
      },
      "source": [
        "**Function calculate_youden_index:** The calculate_youden_index function calculates Youden's Index for a multi-class classification problem using the confusion matrix."
      ]
    },
    {
      "cell_type": "code",
      "execution_count": 59,
      "metadata": {
        "id": "Jxl2vHGcz2in"
      },
      "outputs": [],
      "source": [
        "def calculate_youden_index(conf_matrix):\n",
        "    \"\"\"\n",
        "    Calculate Youden's Index for multi-class classification.\n",
        "\n",
        "    Args:\n",
        "        conf_matrix (ndarray): Confusion matrix.\n",
        "\n",
        "    Returns:\n",
        "        float: Average Youden's Index.\n",
        "    \"\"\"\n",
        "    num_classes = conf_matrix.shape[0]\n",
        "    youden_index = 0.0\n",
        "    for i in range(num_classes):\n",
        "        tp = conf_matrix[i, i]\n",
        "        fn = np.sum(conf_matrix[i, :]) - tp\n",
        "        fp = np.sum(conf_matrix[:, i]) - tp\n",
        "        tn = np.sum(conf_matrix) - (tp + fn + fp)\n",
        "        sensitivity = tp / (tp + fn) if tp + fn > 0 else 0\n",
        "        specificity = tn / (tn + fp) if tn + fp > 0 else 0\n",
        "        youden_index += (sensitivity + specificity - 1)\n",
        "    return youden_index / num_classes\n"
      ]
    },
    {
      "cell_type": "markdown",
      "metadata": {
        "id": "FtiNDE8-0A9z"
      },
      "source": [
        "**Function results:** The results function calculates and displays various performance metrics and the confusion matrix for the predictions made by the model."
      ]
    },
    {
      "cell_type": "code",
      "execution_count": 60,
      "metadata": {
        "id": "XfaKVPkVz_4P"
      },
      "outputs": [],
      "source": [
        "def results(y_test, y_pred, labels):\n",
        "    \"\"\"\n",
        "    Display prediction results.\n",
        "\n",
        "    Args:\n",
        "        y_test (np.ndarray): True labels.\n",
        "        y_pred (np.ndarray): Predicted labels.\n",
        "        labels (list): List of labels.\n",
        "    \"\"\"\n",
        "    accuracy_test = accuracy_score(y_test, y_pred)\n",
        "    precision_test = precision_score(y_test, y_pred, average='weighted')\n",
        "    recall_test = recall_score(y_test, y_pred, average='weighted')\n",
        "    f1_score_test = fbeta_score(y_test, y_pred, beta=2, average='weighted')\n",
        "    cohen_kappa_test = cohen_kappa_score(y_test, y_pred)\n",
        "\n",
        "    conf_matrix = confusion_matrix(y_test, y_pred)\n",
        "    youden_index_test = calculate_youden_index(conf_matrix)\n",
        "\n",
        "    print(\"\\nPerformance metrics on test data:\")\n",
        "    print(f'Accuracy: {accuracy_test}')\n",
        "    print(f'Precision: {precision_test}')\n",
        "    print(f'Recall: {recall_test}')\n",
        "    print(f'F1-score: {f1_score_test}')\n",
        "    print(f'Cohen Kappa: {cohen_kappa_test}')\n",
        "    print(f'Youden\\'s Index: {youden_index_test}')\n",
        "\n",
        "    plt.figure(figsize=(10, 5))\n",
        "    sns.heatmap(conf_matrix, annot=True, fmt='d', cmap='Blues', xticklabels=['Negative', 'Positive'], yticklabels=['Negative', 'Positive'])\n",
        "    plt.xlabel('Predicted')\n",
        "    plt.ylabel('Actual')\n",
        "    plt.title('Confusion Matrix')\n",
        "    plt.show()"
      ]
    },
    {
      "cell_type": "markdown",
      "metadata": {
        "id": "pxM7i6oA0JrX"
      },
      "source": [
        "**Function save_model:** The save_model function saves the trained SVM model to a file using pickle."
      ]
    },
    {
      "cell_type": "code",
      "execution_count": 61,
      "metadata": {
        "id": "DKn5mcMG0I1f"
      },
      "outputs": [],
      "source": [
        "def save_model(model, filename):\n",
        "    \"\"\"\n",
        "    Save the trained model using pickle.\n",
        "\n",
        "    Args:\n",
        "        model (SVC): Trained model.\n",
        "        filename (str): Filename to save the model.\n",
        "    \"\"\"\n",
        "    with open(filename, 'wb') as file:\n",
        "        pickle.dump(model, file)"
      ]
    },
    {
      "cell_type": "markdown",
      "metadata": {
        "id": "2Hcf0R_t0ZYu"
      },
      "source": [
        "This section orchestrates the entire workflow:\n",
        "\n",
        "\n",
        "1.   Load Data: Calls the upload function to load the dataset.\n",
        "2. Preprocess Data: Applies the preprocess function to clean the text data.\n",
        "3. Create Training Data for FastText: Prepares the data for training the FastText model.\n",
        "4. Train FastText Model: Trains the FastText model and saves it.\n",
        "5. Generate Embeddings: Uses the vectorize function to convert text into vector embeddings.\n",
        "6. Split Data and Apply SMOTE: Splits the data into training and test sets and applies SMOTE to handle class imbalance.\n",
        "7. Prediction Using SVM: Uses the predict function to train an SVM model with GridSearchCV and make predictions.\n",
        "8. Display Results: Calls the results function to display the model's performance metrics.\n",
        "9. Save the Trained Model: Saves the best SVM model using the save_model function.\n",
        "\n"
      ]
    },
    {
      "cell_type": "code",
      "execution_count": 62,
      "metadata": {
        "colab": {
          "base_uri": "https://localhost:8080/",
          "height": 921
        },
        "id": "_PzRWFjb0TOg",
        "outputId": "66d313e3-96fd-4c62-8fd4-ce27319d3a8c"
      },
      "outputs": [
        {
          "name": "stderr",
          "output_type": "stream",
          "text": [
            "Retrieving folder contents\n"
          ]
        },
        {
          "name": "stdout",
          "output_type": "stream",
          "text": [
            "Processing file 14J4SVACOgdDekdAZ239-UhQOpkzhJiMt classification-labeled.csv\n",
            "Processing file 16Zw3ePSceYUSexoDospfzTIVIYwPsX4F new_dataset.csv\n"
          ]
        },
        {
          "name": "stderr",
          "output_type": "stream",
          "text": [
            "Retrieving folder contents completed\n",
            "Building directory structure\n",
            "Building directory structure completed\n",
            "Downloading...\n",
            "From: https://drive.google.com/uc?id=14J4SVACOgdDekdAZ239-UhQOpkzhJiMt\n",
            "To: /content/Grupo1/classification-labeled.csv\n",
            "100%|██████████| 421k/421k [00:00<00:00, 109MB/s]\n",
            "Downloading...\n",
            "From: https://drive.google.com/uc?id=16Zw3ePSceYUSexoDospfzTIVIYwPsX4F\n",
            "To: /content/Grupo1/new_dataset.csv\n",
            "100%|██████████| 23.8k/23.8k [00:00<00:00, 32.0MB/s]\n",
            "Download completed\n"
          ]
        },
        {
          "name": "stdout",
          "output_type": "stream",
          "text": [
            "Best parameters found by GridSearchCV:\n",
            "{'C': 100, 'degree': 2, 'gamma': 'scale', 'kernel': 'rbf'}\n",
            "\n",
            "Performance metrics on test data:\n",
            "Accuracy: 0.984375\n",
            "Precision: 0.984312078222974\n",
            "Recall: 0.984375\n",
            "F1-score: 0.9843369145784876\n",
            "Cohen Kappa: 0.9527782838404081\n",
            "Youden's Index: 0.944211742615729\n"
          ]
        },
        {
          "data": {
            "image/png": "[encoded data removed]",
            "text/plain": [
              "<Figure size 1000x500 with 2 Axes>"
            ]
          },
          "metadata": {},
          "output_type": "display_data"
        }
      ],
      "source": [
        "def main():\n",
        "    \"\"\"\n",
        "    Main execution pipeline: load data, preprocess, vectorize, train model, predict, evaluate and save the model.\n",
        "    \"\"\"\n",
        "    # Load Data\n",
        "    dataset = upload(\"classification-labeled.csv\")\n",
        "    texts = [preprocess(text) for text in dataset['comment'].tolist()]\n",
        "    labels = [f'__label__{label}' for label in dataset['sentiment'].tolist()]\n",
        "\n",
        "    # Combine neutral (2) and positive (1) labels to create a binary classification problem\n",
        "    binary_labels = ['__label__0' if label == '__label__0' else '__label__1' for label in labels]\n",
        "\n",
        "    # Create training data for FastText\n",
        "    train_data_path = 'train_data.txt'\n",
        "    with open(train_data_path, 'w', encoding='utf-8') as f:\n",
        "        for text, label in zip(texts, binary_labels):\n",
        "            f.write(f'{label} {text}\\n')\n",
        "\n",
        "    # Train FastText model\n",
        "    fasttext_model = fasttext.train_supervised(input=train_data_path, lr=0.5, epoch=50, wordNgrams=2, bucket=200000, dim=100, loss='softmax')\n",
        "    fasttext_model.save_model('fasttext_model_hs.bin')\n",
        "\n",
        "    # Generate Embeddings\n",
        "    X = [vectorize(text, fasttext_model) for text in texts]\n",
        "    y = [int(label.replace('__label__', '')) for label in binary_labels]\n",
        "\n",
        "    # Split data and apply SMOTE\n",
        "    X_train, X_test, y_train, y_test = train_test_split(X, y, test_size=0.2, random_state=42)\n",
        "    smote = SMOTE(random_state=42)\n",
        "    X_train_resampled, y_train_resampled = smote.fit_resample(X_train, y_train)\n",
        "\n",
        "    # Prediction using SVM\n",
        "    svm_classifier = SVC()\n",
        "    param_grid = {\n",
        "        'C': [0.1, 1, 10, 100],\n",
        "        'kernel': ['linear', 'poly', 'rbf', 'sigmoid'],\n",
        "        'degree': [2, 3, 4],\n",
        "        'gamma': ['scale', 'auto']\n",
        "    }\n",
        "    y_pred_test, best_svm_classifier = predict(svm_classifier, X_train_resampled, y_train_resampled, X_test, param_grid)\n",
        "\n",
        "    # Display Results\n",
        "    results(y_test, y_pred_test, labels)\n",
        "\n",
        "    # Save the trained model\n",
        "    save_model(best_svm_classifier, 'svm_model.pkl')\n",
        "\n",
        "if __name__ == \"__main__\":\n",
        "    main()"
      ]
    },
    {
      "cell_type": "markdown",
      "metadata": {
        "id": "Qh2pkRzSgvOi"
      },
      "source": [
        "## Cross Validation\n",
        "\n",
        "In the Cross Validation section, we perform a thorough evaluation of our FastText+SVM model by applying a cross-validation technique. Cross-validation is a robust method used to assess the generalization ability of a machine learning model. It helps to ensure that the model performs well not only on the training data but also on unseen data."
      ]
    },
    {
      "cell_type": "markdown",
      "metadata": {
        "id": "imd_4JQmxIn6"
      },
      "source": [
        "The ***cross_validation_and_learning_curve*** function is designed to evaluate the performance of a machine learning model using cross-validation and plot the learning curve to understand the model's generalization capability."
      ]
    },
    {
      "cell_type": "code",
      "execution_count": 63,
      "metadata": {
        "id": "8WVDt_PvgyTF"
      },
      "outputs": [],
      "source": [
        "def cross_validation_and_learning_curve(model, X, y):\n",
        "    \"\"\"\n",
        "    Perform cross-validation and plot the learning curve for a given model.\n",
        "\n",
        "    Args:\n",
        "        model: The machine learning model to be evaluated.\n",
        "        X (array-like): Feature matrix.\n",
        "        y (array-like): Target vector.\n",
        "\n",
        "    Returns:\n",
        "        None\n",
        "    \"\"\"\n",
        "    def youden_scorer(estimator, X, y):\n",
        "        \"\"\"\n",
        "        Custom scorer for Youden's Index.\n",
        "\n",
        "        Args:\n",
        "            estimator: The model to be evaluated.\n",
        "            X (array-like): Feature matrix.\n",
        "            y (array-like): Target vector.\n",
        "\n",
        "        Returns:\n",
        "            float: Youden's Index.\n",
        "        \"\"\"\n",
        "        y_pred = estimator.predict(X)\n",
        "        conf_matrix = confusion_matrix(y, y_pred)\n",
        "        return calculate_youden_index(conf_matrix)\n",
        "\n",
        "    def calculate_youden_index(conf_matrix):\n",
        "        \"\"\"\n",
        "        Calculate Youden's Index from a confusion matrix.\n",
        "\n",
        "        Args:\n",
        "            conf_matrix (array-like): Confusion matrix.\n",
        "\n",
        "        Returns:\n",
        "            float: Youden's Index.\n",
        "        \"\"\"\n",
        "        TP = conf_matrix[1, 1]\n",
        "        TN = conf_matrix[0, 0]\n",
        "        FP = conf_matrix[0, 1]\n",
        "        FN = conf_matrix[1, 0]\n",
        "        sensitivity = TP / (TP + FN)\n",
        "        specificity = TN / (TN + FP)\n",
        "        return sensitivity + specificity - 1\n",
        "\n",
        "    scorers = {\n",
        "        'accuracy': 'accuracy',\n",
        "        'precision': 'precision_weighted',\n",
        "        'recall': 'recall_weighted',\n",
        "        'f1': 'f1_weighted',\n",
        "        'cohen_kappa': make_scorer(cohen_kappa_score),\n",
        "        'youden': make_scorer(youden_scorer)\n",
        "    }\n",
        "\n",
        "    skf = StratifiedKFold(n_splits=5)\n",
        "    scores = {metric: [] for metric in scorers.keys()}\n",
        "\n",
        "    for train_index, test_index in skf.split(X, y):\n",
        "        X_train_fold, X_test_fold = [X[i] for i in train_index], [X[i] for i in test_index]\n",
        "        y_train_fold, y_test_fold = [y[i] for i in train_index], [y[i] for i in test_index]\n",
        "\n",
        "        smote = SMOTE(random_state=42)\n",
        "        X_train_resampled, y_train_resampled = smote.fit_resample(X_train_fold, y_train_fold)\n",
        "\n",
        "        model.fit(X_train_resampled, y_train_resampled)\n",
        "        y_pred_fold = model.predict(X_test_fold)\n",
        "\n",
        "        scores['accuracy'].append(accuracy_score(y_test_fold, y_pred_fold))\n",
        "        scores['precision'].append(precision_score(y_test_fold, y_pred_fold, average='weighted'))\n",
        "        scores['recall'].append(recall_score(y_test_fold, y_pred_fold, average='weighted'))\n",
        "        scores['f1'].append(fbeta_score(y_test_fold, y_pred_fold, beta=2, average='weighted'))\n",
        "        scores['cohen_kappa'].append(cohen_kappa_score(y_test_fold, y_pred_fold))\n",
        "        conf_matrix = confusion_matrix(y_test_fold, y_pred_fold)\n",
        "        scores['youden'].append(calculate_youden_index(conf_matrix))\n",
        "\n",
        "    for metric in scores.keys():\n",
        "        print(f\"{metric.capitalize()} scores: {scores[metric]}\")\n",
        "        print(f\"Mean {metric.capitalize()} score: {np.mean(scores[metric])}\")\n",
        "\n",
        "    # Learning Curve\n",
        "    train_sizes, train_scores, test_scores = learning_curve(model, X, y, cv=5, n_jobs=-1, train_sizes=np.linspace(0.1, 1.0, 10), scoring='accuracy')\n",
        "\n",
        "    # Plot Learning Curve\n",
        "    train_scores_mean = np.mean(train_scores, axis=1)\n",
        "    train_scores_std = np.std(train_scores, axis=1)\n",
        "    test_scores_mean = np.mean(test_scores, axis=1)\n",
        "    test_scores_std = np.std(test_scores, axis=1)\n",
        "\n",
        "    plt.figure()\n",
        "    plt.title(\"Learning Curve\")\n",
        "    plt.xlabel(\"Training examples\")\n",
        "    plt.ylabel(\"Score\")\n",
        "    plt.grid()\n",
        "\n",
        "    plt.fill_between(train_sizes, train_scores_mean - train_scores_std,\n",
        "                     train_scores_mean + train_scores_std, alpha=0.1,\n",
        "                     color=\"r\")\n",
        "    plt.fill_between(train_sizes, test_scores_mean - test_scores_std,\n",
        "                     test_scores_mean + test_scores_std, alpha=0.1, color=\"g\")\n",
        "    plt.plot(train_sizes, train_scores_mean, 'o-', color=\"r\",\n",
        "             label=\"Training score\")\n",
        "    plt.plot(train_sizes, test_scores_mean, 'o-', color=\"g\",\n",
        "             label=\"Cross-validation score\")\n",
        "\n",
        "    plt.legend(loc=\"best\")\n",
        "    plt.show()"
      ]
    },
    {
      "cell_type": "markdown",
      "metadata": {
        "id": "C9XC4b0yxXW2"
      },
      "source": [
        "This section is designed to load and preprocess the dataset, train the FastText model, generate embeddings, handle class imbalance using SMOTE, and evaluate the performance of the best SVM classifier using cross-validation and learning curves."
      ]
    },
    {
      "cell_type": "code",
      "execution_count": 64,
      "metadata": {
        "colab": {
          "base_uri": "https://localhost:8080/",
          "height": 961
        },
        "id": "FZ8cMRG5lk8o",
        "outputId": "80a51895-b193-4207-ffe4-e2fd235e97bc"
      },
      "outputs": [
        {
          "name": "stderr",
          "output_type": "stream",
          "text": [
            "Retrieving folder contents\n"
          ]
        },
        {
          "name": "stdout",
          "output_type": "stream",
          "text": [
            "Processing file 14J4SVACOgdDekdAZ239-UhQOpkzhJiMt classification-labeled.csv\n",
            "Processing file 16Zw3ePSceYUSexoDospfzTIVIYwPsX4F new_dataset.csv\n"
          ]
        },
        {
          "name": "stderr",
          "output_type": "stream",
          "text": [
            "Retrieving folder contents completed\n",
            "Building directory structure\n",
            "Building directory structure completed\n",
            "Downloading...\n",
            "From: https://drive.google.com/uc?id=14J4SVACOgdDekdAZ239-UhQOpkzhJiMt\n",
            "To: /content/Grupo1/classification-labeled.csv\n",
            "100%|██████████| 421k/421k [00:00<00:00, 104MB/s]\n",
            "Downloading...\n",
            "From: https://drive.google.com/uc?id=16Zw3ePSceYUSexoDospfzTIVIYwPsX4F\n",
            "To: /content/Grupo1/new_dataset.csv\n",
            "100%|██████████| 23.8k/23.8k [00:00<00:00, 34.0MB/s]\n",
            "Download completed\n"
          ]
        },
        {
          "name": "stdout",
          "output_type": "stream",
          "text": [
            "Accuracy scores: [0.948644793152639, 0.9614835948644793, 0.9657142857142857, 0.9657142857142857, 0.9557142857142857]\n",
            "Mean Accuracy score: 0.959454249031995\n",
            "Precision scores: [0.9493645722792723, 0.9634761203597797, 0.9664606227106227, 0.9675616312614739, 0.9570612171378512]\n",
            "Mean Precision score: 0.9607848327497999\n",
            "Recall scores: [0.948644793152639, 0.9614835948644793, 0.9657142857142857, 0.9657142857142857, 0.9557142857142857]\n",
            "Mean Recall score: 0.959454249031995\n",
            "F1 scores: [0.9485463704942564, 0.9612178200071346, 0.9656160851437351, 0.9654717676197642, 0.9555322276356495]\n",
            "Mean F1 score: 0.959276854180108\n",
            "Cohen_kappa scores: [0.8972952294130574, 0.9229598212286865, 0.9314285714285714, 0.9314285714285714, 0.9114285714285715]\n",
            "Mean Cohen_kappa score: 0.9189081529854917\n",
            "Youden scores: [0.8973463573463571, 0.922873422873423, 0.9314285714285715, 0.9314285714285715, 0.9114285714285715]\n",
            "Mean Youden score: 0.9189010989010988\n"
          ]
        },
        {
          "data": {
            "text/plain": [
              "<Figure size 640x480 with 1 Axes>"
            ]
          },
          "metadata": {},
          "output_type": "display_data"
        }
      ],
      "source": [
        "# Cross Validation and Learning Curve Section\n",
        "if __name__ == \"__main__\":\n",
        "    # Load Data\n",
        "    dataset = upload(\"classification-labeled.csv\")\n",
        "    texts = [preprocess(text) for text in dataset['comment'].tolist()]\n",
        "    labels = [f'__label__{label}' for label in dataset['sentiment'].tolist()]\n",
        "\n",
        "    # Combine neutral (2) and positive (1) labels to create a binary classification problem\n",
        "    binary_labels = ['__label__0' if label == '__label__0' else '__label__1' for label in labels]\n",
        "\n",
        "    # Create training data for FastText\n",
        "    train_data_path = 'train_data.txt'\n",
        "    with open(train_data_path, 'w', encoding='utf-8') as f:\n",
        "        for text, label in zip(texts, binary_labels):\n",
        "            f.write(f'{label} {text}\\n')\n",
        "\n",
        "    # Train FastText model\n",
        "    fasttext_model = fasttext.train_supervised(input=train_data_path, lr=1.0, epoch=25, wordNgrams=2, bucket=200000, dim=100, loss='hs')\n",
        "    fasttext_model.save_model('fasttext_model_hs.bin')\n",
        "\n",
        "    # Generate Embeddings\n",
        "    X = [vectorize(text, fasttext_model) for text in texts]\n",
        "    y = [int(label.replace('__label__', '')) for label in binary_labels]\n",
        "\n",
        "    # Split data and apply SMOTE\n",
        "    X_train, _, y_train, _ = train_test_split(X, y, test_size=0.2, random_state=42)\n",
        "    smote = SMOTE(random_state=42)\n",
        "    X_train_resampled, y_train_resampled = smote.fit_resample(X_train, y_train)\n",
        "\n",
        "    # Best SVM Classifier\n",
        "    best_svm_classifier = SVC(C=1, kernel='rbf', gamma='scale')  # Using the best params from previous GridSearchCV\n",
        "    cross_validation_and_learning_curve(best_svm_classifier, X_train_resampled, y_train_resampled)"
      ]
    },
    {
      "cell_type": "markdown",
      "metadata": {
        "id": "kAQYOPXpvMSq"
      },
      "source": [
        "The results obtained from cross-validation show solid performance of the FastText + SVM model in sentiment classification. Let's analyze each of the presented metrics:\n",
        "\n",
        "**Accuracy**:\n",
        "- **Scores**: [0.9486, 0.9615, 0.9657, 0.9657, 0.9557]\n",
        "- **Mean**: 0.9595\n",
        "- **Interpretation**: The mean accuracy of approximately 95.95% indicates that the model correctly classifies about 96% of the instances in the validation set. The accuracy is consistent across different folds of the cross-validation, showing that the model is robust.\n",
        "\n",
        "**Precision**:\n",
        "- **Scores**: [0.9494, 0.9635, 0.9665, 0.9676, 0.9571]\n",
        "- **Mean**: 0.9608\n",
        "- **Interpretation**: The mean precision of 96.08% suggests that when the model makes a positive prediction, it is correct 96.08% of the time. This indicates a low false positive rate.\n",
        "\n",
        "**Recall**:\n",
        "- **Scores**: [0.9486, 0.9615, 0.9657, 0.9657, 0.9557]\n",
        "- **Mean**: 0.9595\n",
        "- **Interpretation**: The mean recall of 95.95% indicates that the model captures 95.95% of the actual positive instances, demonstrating a low false negative rate.\n",
        "\n",
        "**F1 Score**:\n",
        "- **Scores**: [0.9485, 0.9612, 0.9656, 0.9655, 0.9555]\n",
        "- **Mean**: 0.9593\n",
        "- **Interpretation**: The mean F1 score of 95.93% is the balance between precision and recall, confirming that the model is well-balanced in avoiding false positives and false negatives.\n",
        "\n",
        "**Cohen's Kappa**:\n",
        "- **Scores**: [0.8973, 0.9230, 0.9314, 0.9314, 0.9114]\n",
        "- **Mean**: 0.9189\n",
        "- **Interpretation**: The mean value of Cohen's Kappa at 91.89% indicates substantial agreement between the model's predictions and the actual labels, considering the possibility of chance agreement.\n",
        "\n",
        "**Youden's Index**:\n",
        "- **Scores**: [0.8973, 0.9229, 0.9314, 0.9314, 0.9114]\n",
        "- **Mean**: 0.9189\n",
        "- **Interpretation**: The mean Youden's Index of 91.89% corroborates that the model has a high discriminative capacity between positive and negative classes.\n",
        "\n",
        "**Analysis of the Learning Curve Graph**:\n",
        "- **Training Score**: The model's performance on the training set starts high (around 99%) and slightly decreases as more training examples are added, indicating that the model is well-fitted to the training data.\n",
        "- **Cross-validation Score**: The performance on the cross-validation set starts lower (around 94%) and improves with more training examples, approaching the performance on the training set. This suggests that the model generalizes well and is not overfitting to the training data.\n",
        "\n",
        "**Conclusion**:\n",
        "The results show that the FastText + SVM model performs very well in the task of sentiment classification, with high metrics for precision, recall, and F1 score, as well as good generalization ability as indicated by the learning curve. The high value of Cohen's Kappa and Youden's Index reinforces that the model is robust and reliable."
      ]
    },
    {
      "cell_type": "markdown",
      "metadata": {
        "id": "pMuJH5JwtUby"
      },
      "source": [
        "Separating model code from test code not only improves code structure and maintainability, but also facilitates collaboration and project evolution over time. It is an essential practice for well-structured and robust software projects.\n"
      ]
    },
    {
      "cell_type": "code",
      "execution_count": 15,
      "metadata": {
        "id": "s0nE3MPY2alb"
      },
      "execution_count": 15,
      "outputs": []
    }
  ],
  "metadata": {
    "accelerator": "GPU",
    "colab": {
      "gpuType": "T4",
      "provenance": []
    },
    "kernelspec": {
      "display_name": "Python (BVM)",
      "language": "python",
      "name": "myenv"
    },
    "language_info": {
      "codemirror_mode": {
        "name": "ipython",
        "version": 3
      },
      "file_extension": ".py",
      "mimetype": "text/x-python",
      "name": "python",
      "nbconvert_exporter": "python",
      "pygments_lexer": "ipython3",
      "version": "3.11.1"
    }
  },
  "nbformat": 4,
  "nbformat_minor": 0
}
