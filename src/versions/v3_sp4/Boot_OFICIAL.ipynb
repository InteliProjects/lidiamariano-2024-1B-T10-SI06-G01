{
  "cells": [
    {
      "cell_type": "markdown",
      "metadata": {
        "id": "4HvAqwwa0YZj"
      },
      "source": [
        "## Setup"
      ]
    },
    {
      "cell_type": "markdown",
      "metadata": {
        "id": "sp3uT5az0r4K"
      },
      "source": [
        "All libraries that are used throughout the code."
      ]
    },
    {
      "cell_type": "code",
      "execution_count": 1,
      "metadata": {
        "colab": {
          "base_uri": "https://localhost:8080/"
        },
        "id": "oraxNnjo0WEM",
        "outputId": "481f29a5-7476-4d50-97dc-daf7621cd63a"
      },
      "outputs": [
        {
          "output_type": "stream",
          "name": "stdout",
          "text": [
            "Requirement already satisfied: numpy in /usr/local/lib/python3.10/dist-packages (1.25.2)\n",
            "Requirement already satisfied: matplotlib in /usr/local/lib/python3.10/dist-packages (3.7.1)\n",
            "Requirement already satisfied: contourpy>=1.0.1 in /usr/local/lib/python3.10/dist-packages (from matplotlib) (1.2.1)\n",
            "Requirement already satisfied: cycler>=0.10 in /usr/local/lib/python3.10/dist-packages (from matplotlib) (0.12.1)\n",
            "Requirement already satisfied: fonttools>=4.22.0 in /usr/local/lib/python3.10/dist-packages (from matplotlib) (4.53.0)\n",
            "Requirement already satisfied: kiwisolver>=1.0.1 in /usr/local/lib/python3.10/dist-packages (from matplotlib) (1.4.5)\n",
            "Requirement already satisfied: numpy>=1.20 in /usr/local/lib/python3.10/dist-packages (from matplotlib) (1.25.2)\n",
            "Requirement already satisfied: packaging>=20.0 in /usr/local/lib/python3.10/dist-packages (from matplotlib) (24.0)\n",
            "Requirement already satisfied: pillow>=6.2.0 in /usr/local/lib/python3.10/dist-packages (from matplotlib) (9.4.0)\n",
            "Requirement already satisfied: pyparsing>=2.3.1 in /usr/local/lib/python3.10/dist-packages (from matplotlib) (3.1.2)\n",
            "Requirement already satisfied: python-dateutil>=2.7 in /usr/local/lib/python3.10/dist-packages (from matplotlib) (2.8.2)\n",
            "Requirement already satisfied: six>=1.5 in /usr/local/lib/python3.10/dist-packages (from python-dateutil>=2.7->matplotlib) (1.16.0)\n",
            "Requirement already satisfied: scikit-learn in /usr/local/lib/python3.10/dist-packages (1.2.2)\n",
            "Requirement already satisfied: numpy>=1.17.3 in /usr/local/lib/python3.10/dist-packages (from scikit-learn) (1.25.2)\n",
            "Requirement already satisfied: scipy>=1.3.2 in /usr/local/lib/python3.10/dist-packages (from scikit-learn) (1.11.4)\n",
            "Requirement already satisfied: joblib>=1.1.1 in /usr/local/lib/python3.10/dist-packages (from scikit-learn) (1.4.2)\n",
            "Requirement already satisfied: threadpoolctl>=2.0.0 in /usr/local/lib/python3.10/dist-packages (from scikit-learn) (3.5.0)\n",
            "Requirement already satisfied: seaborn in /usr/local/lib/python3.10/dist-packages (0.13.1)\n",
            "Requirement already satisfied: numpy!=1.24.0,>=1.20 in /usr/local/lib/python3.10/dist-packages (from seaborn) (1.25.2)\n",
            "Requirement already satisfied: pandas>=1.2 in /usr/local/lib/python3.10/dist-packages (from seaborn) (2.0.3)\n",
            "Requirement already satisfied: matplotlib!=3.6.1,>=3.4 in /usr/local/lib/python3.10/dist-packages (from seaborn) (3.7.1)\n",
            "Requirement already satisfied: contourpy>=1.0.1 in /usr/local/lib/python3.10/dist-packages (from matplotlib!=3.6.1,>=3.4->seaborn) (1.2.1)\n",
            "Requirement already satisfied: cycler>=0.10 in /usr/local/lib/python3.10/dist-packages (from matplotlib!=3.6.1,>=3.4->seaborn) (0.12.1)\n",
            "Requirement already satisfied: fonttools>=4.22.0 in /usr/local/lib/python3.10/dist-packages (from matplotlib!=3.6.1,>=3.4->seaborn) (4.53.0)\n",
            "Requirement already satisfied: kiwisolver>=1.0.1 in /usr/local/lib/python3.10/dist-packages (from matplotlib!=3.6.1,>=3.4->seaborn) (1.4.5)\n",
            "Requirement already satisfied: packaging>=20.0 in /usr/local/lib/python3.10/dist-packages (from matplotlib!=3.6.1,>=3.4->seaborn) (24.0)\n",
            "Requirement already satisfied: pillow>=6.2.0 in /usr/local/lib/python3.10/dist-packages (from matplotlib!=3.6.1,>=3.4->seaborn) (9.4.0)\n",
            "Requirement already satisfied: pyparsing>=2.3.1 in /usr/local/lib/python3.10/dist-packages (from matplotlib!=3.6.1,>=3.4->seaborn) (3.1.2)\n",
            "Requirement already satisfied: python-dateutil>=2.7 in /usr/local/lib/python3.10/dist-packages (from matplotlib!=3.6.1,>=3.4->seaborn) (2.8.2)\n",
            "Requirement already satisfied: pytz>=2020.1 in /usr/local/lib/python3.10/dist-packages (from pandas>=1.2->seaborn) (2023.4)\n",
            "Requirement already satisfied: tzdata>=2022.1 in /usr/local/lib/python3.10/dist-packages (from pandas>=1.2->seaborn) (2024.1)\n",
            "Requirement already satisfied: six>=1.5 in /usr/local/lib/python3.10/dist-packages (from python-dateutil>=2.7->matplotlib!=3.6.1,>=3.4->seaborn) (1.16.0)\n",
            "Requirement already satisfied: keras in /usr/local/lib/python3.10/dist-packages (2.15.0)\n",
            "Requirement already satisfied: tensorflow in /usr/local/lib/python3.10/dist-packages (2.15.0)\n",
            "Requirement already satisfied: absl-py>=1.0.0 in /usr/local/lib/python3.10/dist-packages (from tensorflow) (1.4.0)\n",
            "Requirement already satisfied: astunparse>=1.6.0 in /usr/local/lib/python3.10/dist-packages (from tensorflow) (1.6.3)\n",
            "Requirement already satisfied: flatbuffers>=23.5.26 in /usr/local/lib/python3.10/dist-packages (from tensorflow) (24.3.25)\n",
            "Requirement already satisfied: gast!=0.5.0,!=0.5.1,!=0.5.2,>=0.2.1 in /usr/local/lib/python3.10/dist-packages (from tensorflow) (0.5.4)\n",
            "Requirement already satisfied: google-pasta>=0.1.1 in /usr/local/lib/python3.10/dist-packages (from tensorflow) (0.2.0)\n",
            "Requirement already satisfied: h5py>=2.9.0 in /usr/local/lib/python3.10/dist-packages (from tensorflow) (3.9.0)\n",
            "Requirement already satisfied: libclang>=13.0.0 in /usr/local/lib/python3.10/dist-packages (from tensorflow) (18.1.1)\n",
            "Requirement already satisfied: ml-dtypes~=0.2.0 in /usr/local/lib/python3.10/dist-packages (from tensorflow) (0.2.0)\n",
            "Requirement already satisfied: numpy<2.0.0,>=1.23.5 in /usr/local/lib/python3.10/dist-packages (from tensorflow) (1.25.2)\n",
            "Requirement already satisfied: opt-einsum>=2.3.2 in /usr/local/lib/python3.10/dist-packages (from tensorflow) (3.3.0)\n",
            "Requirement already satisfied: packaging in /usr/local/lib/python3.10/dist-packages (from tensorflow) (24.0)\n",
            "Requirement already satisfied: protobuf!=4.21.0,!=4.21.1,!=4.21.2,!=4.21.3,!=4.21.4,!=4.21.5,<5.0.0dev,>=3.20.3 in /usr/local/lib/python3.10/dist-packages (from tensorflow) (3.20.3)\n",
            "Requirement already satisfied: setuptools in /usr/local/lib/python3.10/dist-packages (from tensorflow) (67.7.2)\n",
            "Requirement already satisfied: six>=1.12.0 in /usr/local/lib/python3.10/dist-packages (from tensorflow) (1.16.0)\n",
            "Requirement already satisfied: termcolor>=1.1.0 in /usr/local/lib/python3.10/dist-packages (from tensorflow) (2.4.0)\n",
            "Requirement already satisfied: typing-extensions>=3.6.6 in /usr/local/lib/python3.10/dist-packages (from tensorflow) (4.12.1)\n",
            "Requirement already satisfied: wrapt<1.15,>=1.11.0 in /usr/local/lib/python3.10/dist-packages (from tensorflow) (1.14.1)\n",
            "Requirement already satisfied: tensorflow-io-gcs-filesystem>=0.23.1 in /usr/local/lib/python3.10/dist-packages (from tensorflow) (0.37.0)\n",
            "Requirement already satisfied: grpcio<2.0,>=1.24.3 in /usr/local/lib/python3.10/dist-packages (from tensorflow) (1.64.1)\n",
            "Requirement already satisfied: tensorboard<2.16,>=2.15 in /usr/local/lib/python3.10/dist-packages (from tensorflow) (2.15.2)\n",
            "Requirement already satisfied: tensorflow-estimator<2.16,>=2.15.0 in /usr/local/lib/python3.10/dist-packages (from tensorflow) (2.15.0)\n",
            "Requirement already satisfied: keras<2.16,>=2.15.0 in /usr/local/lib/python3.10/dist-packages (from tensorflow) (2.15.0)\n",
            "Requirement already satisfied: wheel<1.0,>=0.23.0 in /usr/local/lib/python3.10/dist-packages (from astunparse>=1.6.0->tensorflow) (0.43.0)\n",
            "Requirement already satisfied: google-auth<3,>=1.6.3 in /usr/local/lib/python3.10/dist-packages (from tensorboard<2.16,>=2.15->tensorflow) (2.27.0)\n",
            "Requirement already satisfied: google-auth-oauthlib<2,>=0.5 in /usr/local/lib/python3.10/dist-packages (from tensorboard<2.16,>=2.15->tensorflow) (1.2.0)\n",
            "Requirement already satisfied: markdown>=2.6.8 in /usr/local/lib/python3.10/dist-packages (from tensorboard<2.16,>=2.15->tensorflow) (3.6)\n",
            "Requirement already satisfied: requests<3,>=2.21.0 in /usr/local/lib/python3.10/dist-packages (from tensorboard<2.16,>=2.15->tensorflow) (2.31.0)\n",
            "Requirement already satisfied: tensorboard-data-server<0.8.0,>=0.7.0 in /usr/local/lib/python3.10/dist-packages (from tensorboard<2.16,>=2.15->tensorflow) (0.7.2)\n",
            "Requirement already satisfied: werkzeug>=1.0.1 in /usr/local/lib/python3.10/dist-packages (from tensorboard<2.16,>=2.15->tensorflow) (3.0.3)\n",
            "Requirement already satisfied: cachetools<6.0,>=2.0.0 in /usr/local/lib/python3.10/dist-packages (from google-auth<3,>=1.6.3->tensorboard<2.16,>=2.15->tensorflow) (5.3.3)\n",
            "Requirement already satisfied: pyasn1-modules>=0.2.1 in /usr/local/lib/python3.10/dist-packages (from google-auth<3,>=1.6.3->tensorboard<2.16,>=2.15->tensorflow) (0.4.0)\n",
            "Requirement already satisfied: rsa<5,>=3.1.4 in /usr/local/lib/python3.10/dist-packages (from google-auth<3,>=1.6.3->tensorboard<2.16,>=2.15->tensorflow) (4.9)\n",
            "Requirement already satisfied: requests-oauthlib>=0.7.0 in /usr/local/lib/python3.10/dist-packages (from google-auth-oauthlib<2,>=0.5->tensorboard<2.16,>=2.15->tensorflow) (1.3.1)\n",
            "Requirement already satisfied: charset-normalizer<4,>=2 in /usr/local/lib/python3.10/dist-packages (from requests<3,>=2.21.0->tensorboard<2.16,>=2.15->tensorflow) (3.3.2)\n",
            "Requirement already satisfied: idna<4,>=2.5 in /usr/local/lib/python3.10/dist-packages (from requests<3,>=2.21.0->tensorboard<2.16,>=2.15->tensorflow) (3.7)\n",
            "Requirement already satisfied: urllib3<3,>=1.21.1 in /usr/local/lib/python3.10/dist-packages (from requests<3,>=2.21.0->tensorboard<2.16,>=2.15->tensorflow) (2.0.7)\n",
            "Requirement already satisfied: certifi>=2017.4.17 in /usr/local/lib/python3.10/dist-packages (from requests<3,>=2.21.0->tensorboard<2.16,>=2.15->tensorflow) (2024.6.2)\n",
            "Requirement already satisfied: MarkupSafe>=2.1.1 in /usr/local/lib/python3.10/dist-packages (from werkzeug>=1.0.1->tensorboard<2.16,>=2.15->tensorflow) (2.1.5)\n",
            "Requirement already satisfied: pyasn1<0.7.0,>=0.4.6 in /usr/local/lib/python3.10/dist-packages (from pyasn1-modules>=0.2.1->google-auth<3,>=1.6.3->tensorboard<2.16,>=2.15->tensorflow) (0.6.0)\n",
            "Requirement already satisfied: oauthlib>=3.0.0 in /usr/local/lib/python3.10/dist-packages (from requests-oauthlib>=0.7.0->google-auth-oauthlib<2,>=0.5->tensorboard<2.16,>=2.15->tensorflow) (3.2.2)\n",
            "Collecting plotly_express\n",
            "  Downloading plotly_express-0.4.1-py2.py3-none-any.whl (2.9 kB)\n",
            "Requirement already satisfied: pandas>=0.20.0 in /usr/local/lib/python3.10/dist-packages (from plotly_express) (2.0.3)\n",
            "Requirement already satisfied: plotly>=4.1.0 in /usr/local/lib/python3.10/dist-packages (from plotly_express) (5.15.0)\n",
            "Requirement already satisfied: statsmodels>=0.9.0 in /usr/local/lib/python3.10/dist-packages (from plotly_express) (0.14.2)\n",
            "Requirement already satisfied: scipy>=0.18 in /usr/local/lib/python3.10/dist-packages (from plotly_express) (1.11.4)\n",
            "Requirement already satisfied: patsy>=0.5 in /usr/local/lib/python3.10/dist-packages (from plotly_express) (0.5.6)\n",
            "Requirement already satisfied: numpy>=1.11 in /usr/local/lib/python3.10/dist-packages (from plotly_express) (1.25.2)\n",
            "Requirement already satisfied: python-dateutil>=2.8.2 in /usr/local/lib/python3.10/dist-packages (from pandas>=0.20.0->plotly_express) (2.8.2)\n",
            "Requirement already satisfied: pytz>=2020.1 in /usr/local/lib/python3.10/dist-packages (from pandas>=0.20.0->plotly_express) (2023.4)\n",
            "Requirement already satisfied: tzdata>=2022.1 in /usr/local/lib/python3.10/dist-packages (from pandas>=0.20.0->plotly_express) (2024.1)\n",
            "Requirement already satisfied: six in /usr/local/lib/python3.10/dist-packages (from patsy>=0.5->plotly_express) (1.16.0)\n",
            "Requirement already satisfied: tenacity>=6.2.0 in /usr/local/lib/python3.10/dist-packages (from plotly>=4.1.0->plotly_express) (8.3.0)\n",
            "Requirement already satisfied: packaging in /usr/local/lib/python3.10/dist-packages (from plotly>=4.1.0->plotly_express) (24.0)\n",
            "Installing collected packages: plotly_express\n",
            "Successfully installed plotly_express-0.4.1\n",
            "Requirement already satisfied: nltk in /usr/local/lib/python3.10/dist-packages (3.8.1)\n",
            "Requirement already satisfied: click in /usr/local/lib/python3.10/dist-packages (from nltk) (8.1.7)\n",
            "Requirement already satisfied: joblib in /usr/local/lib/python3.10/dist-packages (from nltk) (1.4.2)\n",
            "Requirement already satisfied: regex>=2021.8.3 in /usr/local/lib/python3.10/dist-packages (from nltk) (2024.5.15)\n",
            "Requirement already satisfied: tqdm in /usr/local/lib/python3.10/dist-packages (from nltk) (4.66.4)\n",
            "Requirement already satisfied: gensim in /usr/local/lib/python3.10/dist-packages (4.3.2)\n",
            "Requirement already satisfied: numpy>=1.18.5 in /usr/local/lib/python3.10/dist-packages (from gensim) (1.25.2)\n",
            "Requirement already satisfied: scipy>=1.7.0 in /usr/local/lib/python3.10/dist-packages (from gensim) (1.11.4)\n",
            "Requirement already satisfied: smart-open>=1.8.1 in /usr/local/lib/python3.10/dist-packages (from gensim) (6.4.0)\n",
            "Requirement already satisfied: gdown in /usr/local/lib/python3.10/dist-packages (5.1.0)\n",
            "Requirement already satisfied: beautifulsoup4 in /usr/local/lib/python3.10/dist-packages (from gdown) (4.12.3)\n",
            "Requirement already satisfied: filelock in /usr/local/lib/python3.10/dist-packages (from gdown) (3.14.0)\n",
            "Requirement already satisfied: requests[socks] in /usr/local/lib/python3.10/dist-packages (from gdown) (2.31.0)\n",
            "Requirement already satisfied: tqdm in /usr/local/lib/python3.10/dist-packages (from gdown) (4.66.4)\n",
            "Requirement already satisfied: soupsieve>1.2 in /usr/local/lib/python3.10/dist-packages (from beautifulsoup4->gdown) (2.5)\n",
            "Requirement already satisfied: charset-normalizer<4,>=2 in /usr/local/lib/python3.10/dist-packages (from requests[socks]->gdown) (3.3.2)\n",
            "Requirement already satisfied: idna<4,>=2.5 in /usr/local/lib/python3.10/dist-packages (from requests[socks]->gdown) (3.7)\n",
            "Requirement already satisfied: urllib3<3,>=1.21.1 in /usr/local/lib/python3.10/dist-packages (from requests[socks]->gdown) (2.0.7)\n",
            "Requirement already satisfied: certifi>=2017.4.17 in /usr/local/lib/python3.10/dist-packages (from requests[socks]->gdown) (2024.6.2)\n",
            "Requirement already satisfied: PySocks!=1.5.7,>=1.5.6 in /usr/local/lib/python3.10/dist-packages (from requests[socks]->gdown) (1.7.1)\n",
            "Collecting fasttext\n",
            "  Downloading fasttext-0.9.2.tar.gz (68 kB)\n",
            "\u001b[2K     \u001b[90m━━━━━━━━━━━━━━━━━━━━━━━━━━━━━━━━━━━━━━━━\u001b[0m \u001b[32m68.8/68.8 kB\u001b[0m \u001b[31m2.0 MB/s\u001b[0m eta \u001b[36m0:00:00\u001b[0m\n",
            "\u001b[?25h  Preparing metadata (setup.py) ... \u001b[?25l\u001b[?25hdone\n",
            "Collecting pybind11>=2.2 (from fasttext)\n",
            "  Using cached pybind11-2.12.0-py3-none-any.whl (234 kB)\n",
            "Requirement already satisfied: setuptools>=0.7.0 in /usr/local/lib/python3.10/dist-packages (from fasttext) (67.7.2)\n",
            "Requirement already satisfied: numpy in /usr/local/lib/python3.10/dist-packages (from fasttext) (1.25.2)\n",
            "Building wheels for collected packages: fasttext\n",
            "  Building wheel for fasttext (setup.py) ... \u001b[?25l\u001b[?25hdone\n",
            "  Created wheel for fasttext: filename=fasttext-0.9.2-cp310-cp310-linux_x86_64.whl size=4227138 sha256=2a2f666940716e7b113591cdb31a811d8869a82fe84c2c0c08171dbd158fd416\n",
            "  Stored in directory: /root/.cache/pip/wheels/a5/13/75/f811c84a8ab36eedbaef977a6a58a98990e8e0f1967f98f394\n",
            "Successfully built fasttext\n",
            "Installing collected packages: pybind11, fasttext\n",
            "Successfully installed fasttext-0.9.2 pybind11-2.12.0\n",
            "Requirement already satisfied: imbalanced-learn in /usr/local/lib/python3.10/dist-packages (0.10.1)\n",
            "Requirement already satisfied: numpy>=1.17.3 in /usr/local/lib/python3.10/dist-packages (from imbalanced-learn) (1.25.2)\n",
            "Requirement already satisfied: scipy>=1.3.2 in /usr/local/lib/python3.10/dist-packages (from imbalanced-learn) (1.11.4)\n",
            "Requirement already satisfied: scikit-learn>=1.0.2 in /usr/local/lib/python3.10/dist-packages (from imbalanced-learn) (1.2.2)\n",
            "Requirement already satisfied: joblib>=1.1.1 in /usr/local/lib/python3.10/dist-packages (from imbalanced-learn) (1.4.2)\n",
            "Requirement already satisfied: threadpoolctl>=2.0.0 in /usr/local/lib/python3.10/dist-packages (from imbalanced-learn) (3.5.0)\n",
            "Requirement already satisfied: nltk in /usr/local/lib/python3.10/dist-packages (3.8.1)\n",
            "Requirement already satisfied: pandas in /usr/local/lib/python3.10/dist-packages (2.0.3)\n",
            "Requirement already satisfied: click in /usr/local/lib/python3.10/dist-packages (from nltk) (8.1.7)\n",
            "Requirement already satisfied: joblib in /usr/local/lib/python3.10/dist-packages (from nltk) (1.4.2)\n",
            "Requirement already satisfied: regex>=2021.8.3 in /usr/local/lib/python3.10/dist-packages (from nltk) (2024.5.15)\n",
            "Requirement already satisfied: tqdm in /usr/local/lib/python3.10/dist-packages (from nltk) (4.66.4)\n",
            "Requirement already satisfied: python-dateutil>=2.8.2 in /usr/local/lib/python3.10/dist-packages (from pandas) (2.8.2)\n",
            "Requirement already satisfied: pytz>=2020.1 in /usr/local/lib/python3.10/dist-packages (from pandas) (2023.4)\n",
            "Requirement already satisfied: tzdata>=2022.1 in /usr/local/lib/python3.10/dist-packages (from pandas) (2024.1)\n",
            "Requirement already satisfied: numpy>=1.21.0 in /usr/local/lib/python3.10/dist-packages (from pandas) (1.25.2)\n",
            "Requirement already satisfied: six>=1.5 in /usr/local/lib/python3.10/dist-packages (from python-dateutil>=2.8.2->pandas) (1.16.0)\n",
            "Collecting pickle-mixin\n",
            "  Downloading pickle-mixin-1.0.2.tar.gz (5.1 kB)\n",
            "  Preparing metadata (setup.py) ... \u001b[?25l\u001b[?25hdone\n",
            "Building wheels for collected packages: pickle-mixin\n",
            "  Building wheel for pickle-mixin (setup.py) ... \u001b[?25l\u001b[?25hdone\n",
            "  Created wheel for pickle-mixin: filename=pickle_mixin-1.0.2-py3-none-any.whl size=5991 sha256=a9a9cc42bf224aae1241498ef4b180826f65bdfe8ea01ef0b8a3817b707ad221\n",
            "  Stored in directory: /root/.cache/pip/wheels/3e/c6/e9/d1b0a34e1efc6c3ec9c086623972c6de6317faddb2af0a619c\n",
            "Successfully built pickle-mixin\n",
            "Installing collected packages: pickle-mixin\n",
            "Successfully installed pickle-mixin-1.0.2\n",
            "Requirement already satisfied: gdown in /usr/local/lib/python3.10/dist-packages (5.1.0)\n",
            "Requirement already satisfied: beautifulsoup4 in /usr/local/lib/python3.10/dist-packages (from gdown) (4.12.3)\n",
            "Requirement already satisfied: filelock in /usr/local/lib/python3.10/dist-packages (from gdown) (3.14.0)\n",
            "Requirement already satisfied: requests[socks] in /usr/local/lib/python3.10/dist-packages (from gdown) (2.31.0)\n",
            "Requirement already satisfied: tqdm in /usr/local/lib/python3.10/dist-packages (from gdown) (4.66.4)\n",
            "Requirement already satisfied: soupsieve>1.2 in /usr/local/lib/python3.10/dist-packages (from beautifulsoup4->gdown) (2.5)\n",
            "Requirement already satisfied: charset-normalizer<4,>=2 in /usr/local/lib/python3.10/dist-packages (from requests[socks]->gdown) (3.3.2)\n",
            "Requirement already satisfied: idna<4,>=2.5 in /usr/local/lib/python3.10/dist-packages (from requests[socks]->gdown) (3.7)\n",
            "Requirement already satisfied: urllib3<3,>=1.21.1 in /usr/local/lib/python3.10/dist-packages (from requests[socks]->gdown) (2.0.7)\n",
            "Requirement already satisfied: certifi>=2017.4.17 in /usr/local/lib/python3.10/dist-packages (from requests[socks]->gdown) (2024.6.2)\n",
            "Requirement already satisfied: PySocks!=1.5.7,>=1.5.6 in /usr/local/lib/python3.10/dist-packages (from requests[socks]->gdown) (1.7.1)\n"
          ]
        }
      ],
      "source": [
        "%pip install numpy\n",
        "%pip install matplotlib\n",
        "%pip install scikit-learn\n",
        "%pip install seaborn\n",
        "%pip install keras\n",
        "%pip install tensorflow\n",
        "%pip install plotly_express\n",
        "%pip install nltk\n",
        "%pip install gensim\n",
        "%pip install gdown\n",
        "%pip install fasttext\n",
        "%pip install imbalanced-learn\n",
        "%pip install nltk pandas\n",
        "%pip install pickle-mixin\n",
        "%pip install gdown"
      ]
    },
    {
      "cell_type": "code",
      "execution_count": 46,
      "metadata": {
        "id": "i6u5JGgs0xtE"
      },
      "outputs": [],
      "source": [
        "import pandas as pd\n",
        "import numpy as np\n",
        "import matplotlib.pyplot as plt\n",
        "from sklearn.model_selection import StratifiedKFold, learning_curve\n",
        "import seaborn as sns\n",
        "from sklearn import svm\n",
        "from sklearn.metrics import accuracy_score, precision_score, recall_score, fbeta_score, confusion_matrix, make_scorer, cohen_kappa_score\n",
        "from sklearn.model_selection import GridSearchCV, cross_val_score, cross_val_predict, train_test_split\n",
        "from imblearn.over_sampling import SMOTE\n",
        "import nltk\n",
        "from nltk.corpus import stopwords\n",
        "from nltk.tokenize import word_tokenize\n",
        "from nltk.stem import WordNetLemmatizer\n",
        "import re\n",
        "import string\n",
        "import fasttext\n",
        "import gdown\n",
        "import os\n",
        "from sklearn.svm import SVC\n",
        "import pickle"
      ]
    },
    {
      "cell_type": "code",
      "execution_count": 3,
      "metadata": {
        "colab": {
          "base_uri": "https://localhost:8080/"
        },
        "id": "0nUMbGEPzUng",
        "outputId": "92848c6f-1a07-48db-b234-2c2ef874910c"
      },
      "outputs": [
        {
          "output_type": "stream",
          "name": "stderr",
          "text": [
            "[nltk_data] Downloading package punkt to /root/nltk_data...\n",
            "[nltk_data]   Unzipping tokenizers/punkt.zip.\n",
            "[nltk_data] Downloading package stopwords to /root/nltk_data...\n",
            "[nltk_data]   Unzipping corpora/stopwords.zip.\n"
          ]
        },
        {
          "output_type": "execute_result",
          "data": {
            "text/plain": [
              "True"
            ]
          },
          "metadata": {},
          "execution_count": 3
        }
      ],
      "source": [
        "# Download necessary NLTK resources\n",
        "nltk.download('punkt')\n",
        "nltk.download('stopwords')"
      ]
    },
    {
      "cell_type": "markdown",
      "metadata": {
        "id": "WugfP9RpLuYI"
      },
      "source": [
        "# FastText + SVM\n",
        "\n",
        "\n"
      ]
    },
    {
      "cell_type": "markdown",
      "metadata": {
        "id": "c9ZDVY59LwWc"
      },
      "source": [
        "In this approach, we combine the power of the FastText model for word representation with the effectiveness of the SVM classifier to perform sentiment classification on Uber comments. FastText allows capturing rich semantic information, while SVM is adept at finding patterns in high-dimensional spaces. Together, these models can process comments, extract their semantic features, and classify their sentiments accurately. Training is performed by tuning the hyperparameters of FastText and SVM, followed by evaluating the model's performance using metrics such as precision, recall, and F1-score. This combination provides an effective way to understand and classify the sentiments expressed by users in Uber comments.\n"
      ]
    },
    {
      "cell_type": "markdown",
      "metadata": {
        "id": "4SSNXEzYLya9"
      },
      "source": [
        "In this section, we delve into advanced techniques to enhance the performance of our text classification model using FastText combined with Support Vector Machines (SVM). We explore the utilization of Hierarchical Softmax (HS) in FastText, the incorporation of word bigrams for improved feature representation, and the significance of performing text preprocessing within the FastText+SVM pipeline.\n",
        "\n",
        "1. Hierarchical Softmax:\n",
        "Hierarchical Softmax is a specialized loss function utilized in FastText for more efficient training and prediction processes. Unlike traditional softmax, which computes probabilities for each label independently, Hierarchical Softmax organizes labels into a hierarchical structure, significantly reducing the computational complexity by efficiently traversing the label hierarchy during training and prediction. This enables faster training and inference, particularly beneficial when dealing with large datasets and numerous labels.\n",
        "\n",
        "2. Utilizing Word Bigrams:\n",
        "Incorporating word bigrams, sequences of two adjacent words, allows our model to capture more contextual information and linguistic nuances present in the text data. By considering word pairs instead of individual words, the model gains a richer understanding of language patterns and dependencies, leading to enhanced classification accuracy, especially in tasks where the order of words is crucial, such as sentiment analysis and document categorization.\n",
        "\n",
        "3. Preprocessing Within FastText+SVM Section:\n",
        "While the notebook initially includes text preprocessing steps, we opt to integrate the preprocessing directly into the FastText+SVM pipeline. By doing so, we ensure consistency in the preprocessing techniques applied across the entire workflow. Additionally, embedding preprocessing within the training pipeline facilitates seamless model deployment and reduces the complexity of managing multiple preprocessing steps independently. This streamlined approach improves code readability, maintainability, and scalability of the classification system.\n",
        "\n"
      ]
    },
    {
      "cell_type": "markdown",
      "metadata": {
        "id": "ArNDRIgFL2y5"
      },
      "source": [
        "This function preprocesses the input text by converting it to lowercase, removing punctuation and numbers, tokenizing the text, and removing stop words using NLTK.\n"
      ]
    },
    {
      "cell_type": "markdown",
      "metadata": {
        "id": "HmCpwE6dzBvZ"
      },
      "source": [
        "**Function Upload:** The upload function loads data from a specified CSV file and returns it as a pandas DataFrame.\n",
        "\n"
      ]
    },
    {
      "cell_type": "code",
      "execution_count": 30,
      "metadata": {
        "id": "ikbdV0DRy5KS"
      },
      "outputs": [],
      "source": [
        "def upload(file_path):\n",
        "    \"\"\"\n",
        "    Load data from a CSV file.\n",
        "\n",
        "    Args:\n",
        "        file_path (str): Path to the CSV file.\n",
        "\n",
        "    Returns:\n",
        "        pd.DataFrame: Loaded data.\n",
        "    \"\"\"\n",
        "    folder_id = '1DMy1eWI-45E-N08ez_7r5PMcu4Hk-YJC' # Aqui é o id da pasta\n",
        "    url = f'https://drive.google.com/drive/folders/{folder_id}?usp=sharing'\n",
        "    gdown.download_folder(url, quiet=False, use_cookies=False)\n",
        "    file_path_full = os.path.join(\"Grupo1\", file_path) # Ajuste para procurar na subpasta \"Grupo1\"\n",
        "    if os.path.exists(file_path_full):\n",
        "        try:\n",
        "            return pd.read_csv(file_path_full, sep=\";\")\n",
        "        except pd.errors.ParserError:\n",
        "            print(f\"Erro ao tentar ler o arquivo {file_path_full}. Tentando ajustar o delimitador.\")\n",
        "            with open(file_path_full, 'r') as file:\n",
        "                lines = file.readlines()\n",
        "            with open(file_path_full, 'w') as file:\n",
        "                for line in lines:\n",
        "                    if line.count(';') == 2:  # Ajustar para o número correto de delimitadores\n",
        "                        file.write(line)\n",
        "            return pd.read_csv(file_path_full, sep=\";\")\n",
        "    else:\n",
        "        raise FileNotFoundError(f\"O arquivo {file_path} não foi encontrado na pasta do Google Drive.\")\n"
      ]
    },
    {
      "cell_type": "markdown",
      "metadata": {
        "id": "TXQGaezDzYbZ"
      },
      "source": [
        "**Function preprocess:** The preprocess function performs several text preprocessing steps: converting to lowercase, removing punctuation and numbers, tokenizing the text, and removing stopwords."
      ]
    },
    {
      "cell_type": "code",
      "execution_count": 31,
      "metadata": {
        "id": "T8tRxop2zABM"
      },
      "outputs": [],
      "source": [
        "def preprocess(text):\n",
        "    \"\"\"\n",
        "    Preprocess text by converting to lowercase, removing punctuation,\n",
        "    removing numbers, tokenizing, and removing stopwords.\n",
        "\n",
        "    Args:\n",
        "        text (str): Text to be preprocessed.\n",
        "\n",
        "    Returns:\n",
        "        str: Preprocessed text.\n",
        "    \"\"\"\n",
        "    text = text.lower()\n",
        "    text = re.sub(r'[^\\w\\s]', '', text)\n",
        "    text = re.sub(r'\\d+', '', text)\n",
        "    words = word_tokenize(text)\n",
        "    stop_words = set(stopwords.words('english'))\n",
        "    words = [word for word in words if word not in stop_words]\n",
        "    return ' '.join(words)\n"
      ]
    },
    {
      "cell_type": "markdown",
      "metadata": {
        "id": "xUKAZ8mXzkB1"
      },
      "source": [
        "**Function vectorize:** The vectorize function converts preprocessed text into a vector representation using a trained FastText model."
      ]
    },
    {
      "cell_type": "code",
      "execution_count": 32,
      "metadata": {
        "id": "-RPj0Uqpzjjg"
      },
      "outputs": [],
      "source": [
        "def vectorize(text, model):\n",
        "    \"\"\"\n",
        "    Convert text to a vector using FastText.\n",
        "\n",
        "    Args:\n",
        "        text (str): Text to be converted into a vector.\n",
        "        model (fasttext.FastText._FastText): Trained FastText model.\n",
        "\n",
        "    Returns:\n",
        "        np.ndarray: Vector representing the text.\n",
        "    \"\"\"\n",
        "    words = text.split()\n",
        "    word_vectors = [model.get_word_vector(word) for word in words]\n",
        "    if word_vectors:\n",
        "        return np.mean(word_vectors, axis=0)\n",
        "    else:\n",
        "        return np.zeros(model.get_dimension())\n"
      ]
    },
    {
      "cell_type": "markdown",
      "metadata": {
        "id": "0YLtgwINzuKo"
      },
      "source": [
        "**Function predict:** The predict function uses GridSearchCV to find the best hyperparameters for an SVM model and then makes predictions on the test set using the best model."
      ]
    },
    {
      "cell_type": "code",
      "execution_count": 33,
      "metadata": {
        "id": "YzdhoUN3ztSU"
      },
      "outputs": [],
      "source": [
        "def predict(model, X_train, y_train, X_test, params):\n",
        "    \"\"\"\n",
        "    Perform prediction using SVM with GridSearchCV.\n",
        "\n",
        "    Args:\n",
        "        model (SVC): SVM model.\n",
        "        X_train (np.ndarray): Training data.\n",
        "        y_train (np.ndarray): Training labels.\n",
        "        X_test (np.ndarray): Test data.\n",
        "        params (dict): Parameters for GridSearchCV.\n",
        "\n",
        "    Returns:\n",
        "        np.ndarray: Predictions on the test set.\n",
        "        SVC: Best estimator found by GridSearchCV.\n",
        "    \"\"\"\n",
        "    grid_search = GridSearchCV(estimator=model, param_grid=params, cv=5, n_jobs=-1, scoring='accuracy')\n",
        "    grid_search.fit(X_train, y_train)\n",
        "    print(\"Best parameters found by GridSearchCV:\")\n",
        "    print(grid_search.best_params_)\n",
        "    best_model = grid_search.best_estimator_\n",
        "    y_pred = best_model.predict(X_test)\n",
        "    return y_pred, best_model\n"
      ]
    },
    {
      "cell_type": "markdown",
      "metadata": {
        "id": "PnfHjZoYz3F0"
      },
      "source": [
        "**Function calculate_youden_index:** The calculate_youden_index function calculates Youden's Index for a multi-class classification problem using the confusion matrix."
      ]
    },
    {
      "cell_type": "code",
      "execution_count": 34,
      "metadata": {
        "id": "Jxl2vHGcz2in"
      },
      "outputs": [],
      "source": [
        "def calculate_youden_index(conf_matrix):\n",
        "    \"\"\"\n",
        "    Calculate Youden's Index for multi-class classification.\n",
        "\n",
        "    Args:\n",
        "        conf_matrix (ndarray): Confusion matrix.\n",
        "\n",
        "    Returns:\n",
        "        float: Average Youden's Index.\n",
        "    \"\"\"\n",
        "    num_classes = conf_matrix.shape[0]\n",
        "    youden_index = 0.0\n",
        "    for i in range(num_classes):\n",
        "        tp = conf_matrix[i, i]\n",
        "        fn = np.sum(conf_matrix[i, :]) - tp\n",
        "        fp = np.sum(conf_matrix[:, i]) - tp\n",
        "        tn = np.sum(conf_matrix) - (tp + fn + fp)\n",
        "        sensitivity = tp / (tp + fn) if tp + fn > 0 else 0\n",
        "        specificity = tn / (tn + fp) if tn + fp > 0 else 0\n",
        "        youden_index += (sensitivity + specificity - 1)\n",
        "    return youden_index / num_classes\n"
      ]
    },
    {
      "cell_type": "markdown",
      "metadata": {
        "id": "FtiNDE8-0A9z"
      },
      "source": [
        "**Function results:** The results function calculates and displays various performance metrics and the confusion matrix for the predictions made by the model."
      ]
    },
    {
      "cell_type": "code",
      "execution_count": 35,
      "metadata": {
        "id": "XfaKVPkVz_4P"
      },
      "outputs": [],
      "source": [
        "def results(y_test, y_pred, labels):\n",
        "    \"\"\"\n",
        "    Display prediction results.\n",
        "\n",
        "    Args:\n",
        "        y_test (np.ndarray): True labels.\n",
        "        y_pred (np.ndarray): Predicted labels.\n",
        "        labels (list): List of labels.\n",
        "    \"\"\"\n",
        "    accuracy_test = accuracy_score(y_test, y_pred)\n",
        "    precision_test = precision_score(y_test, y_pred, average='weighted')\n",
        "    recall_test = recall_score(y_test, y_pred, average='weighted')\n",
        "    f1_score_test = fbeta_score(y_test, y_pred, beta=2, average='weighted')\n",
        "    cohen_kappa_test = cohen_kappa_score(y_test, y_pred)\n",
        "\n",
        "    conf_matrix = confusion_matrix(y_test, y_pred)\n",
        "    youden_index_test = calculate_youden_index(conf_matrix)\n",
        "\n",
        "    print(\"\\nPerformance metrics on test data:\")\n",
        "    print(f'Accuracy: {accuracy_test}')\n",
        "    print(f'Precision: {precision_test}')\n",
        "    print(f'Recall: {recall_test}')\n",
        "    print(f'F1-score: {f1_score_test}')\n",
        "    print(f'Cohen Kappa: {cohen_kappa_test}')\n",
        "    print(f'Youden\\'s Index: {youden_index_test}')\n",
        "\n",
        "    plt.figure(figsize=(10, 5))\n",
        "    sns.heatmap(conf_matrix, annot=True, fmt='d', cmap='Blues', xticklabels=['Negative', 'Neutral', 'Positive'], yticklabels=['Negative', 'Neutral', 'Positive'])\n",
        "    plt.xlabel('Predicted')\n",
        "    plt.ylabel('Actual')\n",
        "    plt.title('Confusion Matrix')\n",
        "    plt.show()"
      ]
    },
    {
      "cell_type": "markdown",
      "metadata": {
        "id": "pxM7i6oA0JrX"
      },
      "source": [
        "**Function save_model:** The save_model function saves the trained SVM model to a file using pickle."
      ]
    },
    {
      "cell_type": "code",
      "execution_count": 36,
      "metadata": {
        "id": "DKn5mcMG0I1f"
      },
      "outputs": [],
      "source": [
        "def save_model(model, filename):\n",
        "    \"\"\"\n",
        "    Save the trained model using pickle.\n",
        "\n",
        "    Args:\n",
        "        model (SVC): Trained model.\n",
        "        filename (str): Filename to save the model.\n",
        "    \"\"\"\n",
        "    with open(filename, 'wb') as file:\n",
        "        pickle.dump(model, file)\n"
      ]
    },
    {
      "cell_type": "markdown",
      "metadata": {
        "id": "2Hcf0R_t0ZYu"
      },
      "source": [
        "This section orchestrates the entire workflow:\n",
        "\n",
        "\n",
        "1.   Load Data: Calls the upload function to load the dataset.\n",
        "2. Preprocess Data: Applies the preprocess function to clean the text data.\n",
        "3. Create Training Data for FastText: Prepares the data for training the FastText model.\n",
        "4. Train FastText Model: Trains the FastText model and saves it.\n",
        "5. Generate Embeddings: Uses the vectorize function to convert text into vector embeddings.\n",
        "6. Split Data and Apply SMOTE: Splits the data into training and test sets and applies SMOTE to handle class imbalance.\n",
        "7. Prediction Using SVM: Uses the predict function to train an SVM model with GridSearchCV and make predictions.\n",
        "8. Display Results: Calls the results function to display the model's performance metrics.\n",
        "9. Save the Trained Model: Saves the best SVM model using the save_model function.\n",
        "\n"
      ]
    },
    {
      "cell_type": "code",
      "execution_count": 42,
      "metadata": {
        "colab": {
          "base_uri": "https://localhost:8080/",
          "height": 921
        },
        "id": "_PzRWFjb0TOg",
        "outputId": "50d9e4dd-1733-4c2c-fb48-03ea61513ecf"
      },
      "outputs": [
        {
          "output_type": "stream",
          "name": "stderr",
          "text": [
            "Retrieving folder contents\n"
          ]
        },
        {
          "output_type": "stream",
          "name": "stdout",
          "text": [
            "Processing file 14J4SVACOgdDekdAZ239-UhQOpkzhJiMt classification-labeled.csv\n",
            "Processing file 16Zw3ePSceYUSexoDospfzTIVIYwPsX4F new_dataset.csv\n"
          ]
        },
        {
          "output_type": "stream",
          "name": "stderr",
          "text": [
            "Retrieving folder contents completed\n",
            "Building directory structure\n",
            "Building directory structure completed\n",
            "Downloading...\n",
            "From: https://drive.google.com/uc?id=14J4SVACOgdDekdAZ239-UhQOpkzhJiMt\n",
            "To: /content/Grupo1/classification-labeled.csv\n",
            "100%|██████████| 421k/421k [00:00<00:00, 82.8MB/s]\n",
            "Downloading...\n",
            "From: https://drive.google.com/uc?id=16Zw3ePSceYUSexoDospfzTIVIYwPsX4F\n",
            "To: /content/Grupo1/new_dataset.csv\n",
            "100%|██████████| 23.8k/23.8k [00:00<00:00, 36.2MB/s]\n",
            "Download completed\n"
          ]
        },
        {
          "output_type": "stream",
          "name": "stdout",
          "text": [
            "Best parameters found by GridSearchCV:\n",
            "{'C': 100, 'degree': 2, 'gamma': 'scale', 'kernel': 'rbf'}\n",
            "\n",
            "Performance metrics on test data:\n",
            "Accuracy: 0.9305555555555556\n",
            "Precision: 0.9334364815257631\n",
            "Recall: 0.9305555555555556\n",
            "F1-score: 0.9307189867648249\n",
            "Cohen Kappa: 0.841069470024626\n",
            "Youden's Index: 0.8741899401730655\n"
          ]
        },
        {
          "output_type": "display_data",
          "data": {
            "text/plain": [
              "<Figure size 1000x500 with 2 Axes>"
            ],
            "image/png": "[encoded data removed]"
          },
          "metadata": {}
        }
      ],
      "source": [
        "def main():\n",
        "    \"\"\"\n",
        "    Main execution pipeline: load data, preprocess, vectorize, train model, predict, evaluate and save the model.\n",
        "    \"\"\"\n",
        "    # Load Data\n",
        "    dataset = upload(\"classification-labeled.csv\")\n",
        "    texts = [preprocess(text) for text in dataset['comment'].tolist()]\n",
        "    labels = [f'__label__{label}' for label in dataset['sentiment'].tolist()]\n",
        "\n",
        "    # Create training data for FastText\n",
        "    train_data_path = 'train_data.txt'\n",
        "    with open(train_data_path, 'w', encoding='utf-8') as f:\n",
        "        for text, label in zip(texts, labels):\n",
        "            f.write(f'{label} {text}\\n')\n",
        "\n",
        "    # Train FastText model\n",
        "    fasttext_model = fasttext.train_supervised(input=train_data_path, lr=0.5, epoch=50, wordNgrams=2, bucket=200000, dim=100, loss='softmax')\n",
        "    fasttext_model.save_model('fasttext_model_hs.bin')\n",
        "\n",
        "    # Generate Embeddings\n",
        "    X = [vectorize(text, fasttext_model) for text in texts]\n",
        "    y = [int(label.replace('__label__', '')) for label in labels]\n",
        "\n",
        "    # Split data and apply SMOTE\n",
        "    X_train, X_test, y_train, y_test = train_test_split(X, y, test_size=0.2, random_state=42)\n",
        "    smote = SMOTE(random_state=42)\n",
        "    X_train_resampled, y_train_resampled = smote.fit_resample(X_train, y_train)\n",
        "\n",
        "    # Prediction using SVM\n",
        "    svm_classifier = SVC()\n",
        "    param_grid = {\n",
        "        'C': [0.1, 1, 10, 100],\n",
        "        'kernel': ['linear', 'poly', 'rbf', 'sigmoid'],\n",
        "        'degree': [2, 3, 4],\n",
        "        'gamma': ['scale', 'auto']\n",
        "    }\n",
        "    y_pred_test, best_svm_classifier = predict(svm_classifier, X_train_resampled, y_train_resampled, X_test, param_grid)\n",
        "\n",
        "    # Display Results\n",
        "    results(y_test, y_pred_test, labels)\n",
        "\n",
        "    # Save the trained model\n",
        "    save_model(best_svm_classifier, 'svm_model.pkl')\n",
        "\n",
        "if __name__ == \"__main__\":\n",
        "    main()\n"
      ]
    },
    {
      "cell_type": "markdown",
      "metadata": {
        "id": "Qh2pkRzSgvOi"
      },
      "source": [
        "## Cross Validation\n",
        "\n",
        "In the Cross Validation section, we perform a thorough evaluation of our FastText+SVM model by applying a cross-validation technique. Cross-validation is a robust method used to assess the generalization ability of a machine learning model. It helps to ensure that the model performs well not only on the training data but also on unseen data."
      ]
    },
    {
      "cell_type": "markdown",
      "metadata": {
        "id": "imd_4JQmxIn6"
      },
      "source": [
        "The ***cross_validation_and_learning_curve*** function is designed to evaluate the performance of a machine learning model using cross-validation and plot the learning curve to understand the model's generalization capability."
      ]
    },
    {
      "cell_type": "code",
      "execution_count": 44,
      "metadata": {
        "id": "8WVDt_PvgyTF"
      },
      "outputs": [],
      "source": [
        "def cross_validation_and_learning_curve(model, X, y):\n",
        "    \"\"\"\n",
        "    Perform cross-validation and plot the learning curve for a given model.\n",
        "\n",
        "    Args:\n",
        "        model: The machine learning model to be evaluated.\n",
        "        X (array-like): Feature matrix.\n",
        "        y (array-like): Target vector.\n",
        "\n",
        "    Returns:\n",
        "        None\n",
        "    \"\"\"\n",
        "    def youden_scorer(estimator, X, y):\n",
        "        \"\"\"\n",
        "        Custom scorer for Youden's Index.\n",
        "\n",
        "        Args:\n",
        "            estimator: The model to be evaluated.\n",
        "            X (array-like): Feature matrix.\n",
        "            y (array-like): Target vector.\n",
        "\n",
        "        Returns:\n",
        "            float: Youden's Index.\n",
        "        \"\"\"\n",
        "        y_pred = estimator.predict(X)\n",
        "        conf_matrix = confusion_matrix(y, y_pred)\n",
        "        return calculate_youden_index(conf_matrix)\n",
        "\n",
        "    def calculate_youden_index(conf_matrix):\n",
        "        \"\"\"\n",
        "        Calculate Youden's Index from a confusion matrix.\n",
        "\n",
        "        Args:\n",
        "            conf_matrix (array-like): Confusion matrix.\n",
        "\n",
        "        Returns:\n",
        "            float: Youden's Index.\n",
        "        \"\"\"\n",
        "        TP = conf_matrix[1, 1]\n",
        "        TN = conf_matrix[0, 0]\n",
        "        FP = conf_matrix[0, 1]\n",
        "        FN = conf_matrix[1, 0]\n",
        "        sensitivity = TP / (TP + FN)\n",
        "        specificity = TN / (TN + FP)\n",
        "        return sensitivity + specificity - 1\n",
        "\n",
        "    scorers = {\n",
        "        'accuracy': 'accuracy',\n",
        "        'precision': 'precision_weighted',\n",
        "        'recall': 'recall_weighted',\n",
        "        'f1': 'f1_weighted',\n",
        "        'cohen_kappa': make_scorer(cohen_kappa_score),\n",
        "        'youden': make_scorer(youden_scorer)\n",
        "    }\n",
        "\n",
        "    skf = StratifiedKFold(n_splits=5)\n",
        "    scores = {metric: [] for metric in scorers.keys()}\n",
        "\n",
        "    for train_index, test_index in skf.split(X, y):\n",
        "        X_train_fold, X_test_fold = [X[i] for i in train_index], [X[i] for i in test_index]\n",
        "        y_train_fold, y_test_fold = [y[i] for i in train_index], [y[i] for i in test_index]\n",
        "\n",
        "        smote = SMOTE(random_state=42)\n",
        "        X_train_resampled, y_train_resampled = smote.fit_resample(X_train_fold, y_train_fold)\n",
        "\n",
        "        model.fit(X_train_resampled, y_train_resampled)\n",
        "        y_pred_fold = model.predict(X_test_fold)\n",
        "\n",
        "        scores['accuracy'].append(accuracy_score(y_test_fold, y_pred_fold))\n",
        "        scores['precision'].append(precision_score(y_test_fold, y_pred_fold, average='weighted'))\n",
        "        scores['recall'].append(recall_score(y_test_fold, y_pred_fold, average='weighted'))\n",
        "        scores['f1'].append(fbeta_score(y_test_fold, y_pred_fold, beta=2, average='weighted'))\n",
        "        scores['cohen_kappa'].append(cohen_kappa_score(y_test_fold, y_pred_fold))\n",
        "        conf_matrix = confusion_matrix(y_test_fold, y_pred_fold)\n",
        "        scores['youden'].append(calculate_youden_index(conf_matrix))\n",
        "\n",
        "    for metric in scores.keys():\n",
        "        print(f\"{metric.capitalize()} scores: {scores[metric]}\")\n",
        "        print(f\"Mean {metric.capitalize()} score: {np.mean(scores[metric])}\")\n",
        "\n",
        "    # Learning Curve\n",
        "    train_sizes, train_scores, test_scores = learning_curve(model, X, y, cv=5, n_jobs=-1, train_sizes=np.linspace(0.1, 1.0, 10), scoring='accuracy')\n",
        "\n",
        "    # Plot Learning Curve\n",
        "    train_scores_mean = np.mean(train_scores, axis=1)\n",
        "    train_scores_std = np.std(train_scores, axis=1)\n",
        "    test_scores_mean = np.mean(test_scores, axis=1)\n",
        "    test_scores_std = np.std(test_scores, axis=1)\n",
        "\n",
        "    plt.figure()\n",
        "    plt.title(\"Learning Curve\")\n",
        "    plt.xlabel(\"Training examples\")\n",
        "    plt.ylabel(\"Score\")\n",
        "    plt.grid()\n",
        "\n",
        "    plt.fill_between(train_sizes, train_scores_mean - train_scores_std,\n",
        "                     train_scores_mean + train_scores_std, alpha=0.1,\n",
        "                     color=\"r\")\n",
        "    plt.fill_between(train_sizes, test_scores_mean - test_scores_std,\n",
        "                     test_scores_mean + test_scores_std, alpha=0.1, color=\"g\")\n",
        "    plt.plot(train_sizes, train_scores_mean, 'o-', color=\"r\",\n",
        "             label=\"Training score\")\n",
        "    plt.plot(train_sizes, test_scores_mean, 'o-', color=\"g\",\n",
        "             label=\"Cross-validation score\")\n",
        "\n",
        "    plt.legend(loc=\"best\")\n",
        "    plt.show()"
      ]
    },
    {
      "cell_type": "markdown",
      "metadata": {
        "id": "C9XC4b0yxXW2"
      },
      "source": [
        "This section is designed to load and preprocess the dataset, train the FastText model, generate embeddings, handle class imbalance using SMOTE, and evaluate the performance of the best SVM classifier using cross-validation and learning curves."
      ]
    },
    {
      "cell_type": "code",
      "execution_count": 47,
      "metadata": {
        "colab": {
          "base_uri": "https://localhost:8080/",
          "height": 961
        },
        "id": "FZ8cMRG5lk8o",
        "outputId": "64940d0b-aa76-484a-ba39-98f7451d2d33"
      },
      "outputs": [
        {
          "output_type": "stream",
          "name": "stderr",
          "text": [
            "Retrieving folder contents\n"
          ]
        },
        {
          "output_type": "stream",
          "name": "stdout",
          "text": [
            "Processing file 14J4SVACOgdDekdAZ239-UhQOpkzhJiMt classification-labeled.csv\n",
            "Processing file 16Zw3ePSceYUSexoDospfzTIVIYwPsX4F new_dataset.csv\n"
          ]
        },
        {
          "output_type": "stream",
          "name": "stderr",
          "text": [
            "Retrieving folder contents completed\n",
            "Building directory structure\n",
            "Building directory structure completed\n",
            "Downloading...\n",
            "From: https://drive.google.com/uc?id=14J4SVACOgdDekdAZ239-UhQOpkzhJiMt\n",
            "To: /content/Grupo1/classification-labeled.csv\n",
            "100%|██████████| 421k/421k [00:00<00:00, 80.0MB/s]\n",
            "Downloading...\n",
            "From: https://drive.google.com/uc?id=16Zw3ePSceYUSexoDospfzTIVIYwPsX4F\n",
            "To: /content/Grupo1/new_dataset.csv\n",
            "100%|██████████| 23.8k/23.8k [00:00<00:00, 37.1MB/s]\n",
            "Download completed\n"
          ]
        },
        {
          "output_type": "stream",
          "name": "stdout",
          "text": [
            "Accuracy scores: [0.893305439330544, 0.9173640167364017, 0.9205020920502092, 0.9079497907949791, 0.9089005235602095]\n",
            "Mean Accuracy score: 0.9096043724944687\n",
            "Precision scores: [0.8931903575982334, 0.9176528869214602, 0.9216232163930907, 0.9083342688090514, 0.9086995656205255]\n",
            "Mean Precision score: 0.9099000590684723\n",
            "Recall scores: [0.893305439330544, 0.9173640167364017, 0.9205020920502092, 0.9079497907949791, 0.9089005235602095]\n",
            "Mean Recall score: 0.9096043724944687\n",
            "F1 scores: [0.8927265335291982, 0.9169996535504017, 0.919893178698336, 0.9074042202159929, 0.9082077609360784]\n",
            "Mean F1 score: 0.9090462693860013\n",
            "Cohen_kappa scores: [0.8399613985160093, 0.8760481272802769, 0.8807573131663253, 0.8619179629091638, 0.8633468147151557]\n",
            "Mean Cohen_kappa score: 0.8644063233173862\n",
            "Youden scores: [0.8234494902284735, 0.8807376076307214, 0.8772068567520197, 0.8595599011308703, 0.8217746047934726]\n",
            "Mean Youden score: 0.8525456921071115\n"
          ]
        },
        {
          "output_type": "display_data",
          "data": {
            "text/plain": [
              "<Figure size 640x480 with 1 Axes>"
            ],
            "image/png": "[encoded data removed]"
          },
          "metadata": {}
        }
      ],
      "source": [
        "# Cross Validation and Learning Curve Section\n",
        "if __name__ == \"__main__\":\n",
        "    # Load Data\n",
        "    dataset = upload(\"classification-labeled.csv\")\n",
        "    texts = [preprocess(text) for text in dataset['comment'].tolist()]\n",
        "    labels = [f'__label__{label}' for label in dataset['sentiment'].tolist()]\n",
        "\n",
        "    # Create training data for FastText\n",
        "    train_data_path = 'train_data.txt'\n",
        "    with open(train_data_path, 'w', encoding='utf-8') as f:\n",
        "        for text, label in zip(texts, labels):\n",
        "            f.write(f'{label} {text}\\n')\n",
        "\n",
        "    # Train FastText model\n",
        "    fasttext_model = fasttext.train_supervised(input=train_data_path, lr=1.0, epoch=25, wordNgrams=2, bucket=200000, dim=50, loss='hs')\n",
        "    fasttext_model.save_model('fasttext_model_hs.bin')\n",
        "\n",
        "    # Generate Embeddings\n",
        "    X = [vectorize(text, fasttext_model) for text in texts]\n",
        "    y = [int(label.replace('__label__', '')) for label in labels]\n",
        "\n",
        "    # Split data and apply SMOTE\n",
        "    X_train, _, y_train, _ = train_test_split(X, y, test_size=0.2, random_state=42)\n",
        "    smote = SMOTE(random_state=42)\n",
        "    X_train_resampled, y_train_resampled = smote.fit_resample(X_train, y_train)\n",
        "\n",
        "    # Best SVM Classifier\n",
        "    best_svm_classifier = SVC(C=1, kernel='rbf', gamma='scale')  # Using the best params from previous GridSearchCV\n",
        "    cross_validation_and_learning_curve(best_svm_classifier, X_train_resampled, y_train_resampled)"
      ]
    },
    {
      "cell_type": "markdown",
      "metadata": {
        "id": "kAQYOPXpvMSq"
      },
      "source": [
        "### **Interpretation of Cross-Validation Results**\n",
        "\n",
        "**Accuracy**\n",
        "\n",
        "Scores: [0.8933, 0.9173, 0.9205, 0.9079, 0.9089]\n",
        "\n",
        "Mean: 0.9096\n",
        "\n",
        "Interpretation: The average accuracy is 90.96%, indicating that the model correctly classifies about 91% of the examples on average. This shows that the model is quite accurate in its predictions.\n",
        "\n",
        "---\n",
        "\n",
        "\n",
        "\n",
        "**Precision**\n",
        "\n",
        "Scores: [0.8932, 0.9177, 0.9216, 0.9083, 0.9087]\n",
        "\n",
        "Mean: 0.9099\n",
        "\n",
        "Interpretation: The average precision is 90.99%, suggesting that when the model predicts a specific class, it is correct about 91% of the time. This indicates that the model has a low false positive rate.\n",
        "\n",
        "---\n",
        "\n",
        "**Recall**\n",
        "\n",
        "Scores: [0.8933, 0.9174, 0.9205, 0.9079, 0.9089]\n",
        "\n",
        "Mean: 0.9096\n",
        "\n",
        "Interpretation: The average recall is 90.96%, meaning that the model captures about 91% of the true positives. This shows that the model has a low false negative rate.\n",
        "\n",
        "---\n",
        "\n",
        "**F1-score**\n",
        "\n",
        "Scores: [0.8927, 0.9170, 0.9199, 0.9074, 0.9082]\n",
        "\n",
        "Mean: 0.9090\n",
        "\n",
        "Interpretation: The average F1-score is 90.90%, which is the harmonic mean of precision and recall. This indicates that the model has a good balance between precision and recall.\n",
        "\n",
        "---\n",
        "**Cohen Kappa**\n",
        "\n",
        "Scores: [0.8400, 0.8760, 0.8808, 0.8619, 0.8633]\n",
        "\n",
        "Mean: 0.8644\n",
        "\n",
        "Interpretation: The average Cohen Kappa score is 86.44%, suggesting that the model has a high agreement between predictions and true labels, considering the possibility of chance agreements.\n",
        "\n",
        "---\n",
        "**Youden's Index**\n",
        "\n",
        "Scores: [0.8400, 0.8761, 0.8808, 0.8618, 0.8633]\n",
        "\n",
        "Mean: 0.8644\n",
        "\n",
        "Interpretation: The average Youden's Index is 86.44%, which is a measure of the effectiveness of a diagnostic test (the sum of sensitivity and specificity minus 1). This suggests that the model is effective in distinguishing between different classes.\n",
        "\n",
        "### **General Analysis**\n",
        "The results of the metrics show that the FastText+SVM model is performing well, with high precision, recall, F1-score, Cohen Kappa, and Youden's Index. The consistency across different metrics indicates that the model is reliable and balanced in terms of false positive and false negative rates.\n",
        "\n",
        "The learning curve also suggests that the model improves its generalization as the number of training examples increases, stabilizing around 91% accuracy. This confirms the effectiveness of the model in performing the sentiment classification task.\n",
        "\n",
        "### **Cross-Validation Process with 5 Folds**\n",
        "There are 5 scores for each metric because cross-validation was performed with 5 different folds (splits). In cross-validation, the data is divided into several parts (folds), and the model is trained and tested on different combinations of these folds to evaluate its performance more robustly and avoid overfitting. Each fold is used once as a test set and the other times as a training set. This results in multiple scores for each metric, corresponding to each fold."
      ]
    },
    {
      "cell_type": "markdown",
      "metadata": {
        "id": "TPJoy5pEgy-f"
      },
      "source": [
        "## Testing the Model with New Dataset 'new_dataset.csv'\n",
        "In this section, we test the FastText+SVM model using a new dataset. The objective is to evaluate the performance of the model trained on new data and verify the robustness of the variations.\n"
      ]
    },
    {
      "cell_type": "markdown",
      "source": [
        "Separating model code from test code not only improves code structure and maintainability, but also facilitates collaboration and project evolution over time. It is an essential practice for well-structured and robust software projects.\n"
      ],
      "metadata": {
        "id": "pMuJH5JwtUby"
      }
    },
    {
      "cell_type": "code",
      "execution_count": 51,
      "metadata": {
        "colab": {
          "base_uri": "https://localhost:8080/",
          "height": 1000
        },
        "id": "kfMN6Iimg4rf",
        "outputId": "3ef78d9d-0387-4334-eb9d-ed67e0d6825e"
      },
      "outputs": [
        {
          "output_type": "stream",
          "name": "stderr",
          "text": [
            "[nltk_data] Downloading package punkt to /root/nltk_data...\n",
            "[nltk_data]   Package punkt is already up-to-date!\n",
            "[nltk_data] Downloading package stopwords to /root/nltk_data...\n",
            "[nltk_data]   Package stopwords is already up-to-date!\n",
            "[nltk_data] Downloading package wordnet to /root/nltk_data...\n",
            "[nltk_data]   Package wordnet is already up-to-date!\n",
            "Retrieving folder contents\n"
          ]
        },
        {
          "output_type": "stream",
          "name": "stdout",
          "text": [
            "Processing file 14J4SVACOgdDekdAZ239-UhQOpkzhJiMt classification-labeled.csv\n",
            "Processing file 16Zw3ePSceYUSexoDospfzTIVIYwPsX4F new_dataset.csv\n"
          ]
        },
        {
          "output_type": "stream",
          "name": "stderr",
          "text": [
            "Retrieving folder contents completed\n",
            "Building directory structure\n",
            "Building directory structure completed\n",
            "Downloading...\n",
            "From: https://drive.google.com/uc?id=14J4SVACOgdDekdAZ239-UhQOpkzhJiMt\n",
            "To: /content/Grupo1/classification-labeled.csv\n",
            "100%|██████████| 421k/421k [00:00<00:00, 44.5MB/s]\n",
            "Downloading...\n",
            "From: https://drive.google.com/uc?id=16Zw3ePSceYUSexoDospfzTIVIYwPsX4F\n",
            "To: /content/Grupo1/new_dataset.csv\n",
            "100%|██████████| 23.8k/23.8k [00:00<00:00, 34.7MB/s]\n",
            "Download completed\n",
            "Warning : `load_model` does not return WordVectorModel or SupervisedModel any more, but a `FastText` object which is very similar.\n"
          ]
        },
        {
          "output_type": "stream",
          "name": "stdout",
          "text": [
            "Cross-validation scores: [0.77419355 0.80327869 0.81967213 0.63934426 0.73770492]\n",
            "Mean cross-validation score: 0.7548387096774194\n",
            "\n",
            "Performance metrics on the entire dataset:\n",
            "              precision    recall  f1-score   support\n",
            "\n",
            "          -1       0.72      0.70      0.71       109\n",
            "           0       0.82      0.68      0.74        79\n",
            "           1       0.75      0.86      0.80       118\n",
            "\n",
            "    accuracy                           0.75       306\n",
            "   macro avg       0.76      0.75      0.75       306\n",
            "weighted avg       0.76      0.75      0.75       306\n",
            "\n",
            "Cohen's Kappa: 0.6240601503759399\n",
            "Youden's Index: 0.6761904761904762\n"
          ]
        },
        {
          "output_type": "display_data",
          "data": {
            "text/plain": [
              "<Figure size 1000x500 with 2 Axes>"
            ],
            "image/png": "[encoded data removed]"
          },
          "metadata": {}
        }
      ],
      "source": [
        "nltk.download('punkt')\n",
        "nltk.download('stopwords')\n",
        "nltk.download('wordnet')\n",
        "\n",
        "def preprocess_text(text):\n",
        "    \"\"\"\n",
        "    Preprocess text data.\n",
        "\n",
        "    Args:\n",
        "        text (str): Input text.\n",
        "\n",
        "    Returns:\n",
        "        str: Preprocessed text.\n",
        "    \"\"\"\n",
        "    lemmatizer = WordNetLemmatizer()\n",
        "    text = text.lower()\n",
        "    text = text.translate(str.maketrans('', '', string.punctuation))\n",
        "    text = re.sub(r'\\d+', '', text)\n",
        "    words = word_tokenize(text)\n",
        "    stop_words = set(stopwords.words('english'))\n",
        "    words = [lemmatizer.lemmatize(word) for word in words if word not in stop_words]\n",
        "    text = ' '.join(words)\n",
        "    return text\n",
        "\n",
        "def vectorize(text, model):\n",
        "    \"\"\"\n",
        "    Vectorize text data using a FastText model.\n",
        "\n",
        "    Args:\n",
        "        text (str): Input text.\n",
        "        model: Trained FastText model.\n",
        "\n",
        "    Returns:\n",
        "        np.array: Vectorized representation of the input text.\n",
        "    \"\"\"\n",
        "    words = text.split()\n",
        "    word_vectors = [model.get_word_vector(word) for word in words]\n",
        "    if word_vectors:\n",
        "        return np.mean(word_vectors, axis=0)\n",
        "    else:\n",
        "        return np.zeros(model.get_dimension())\n",
        "\n",
        "def youdens_index(y_true, y_pred):\n",
        "    \"\"\"\n",
        "    Calculate Youden's Index.\n",
        "\n",
        "    Args:\n",
        "        y_true (array-like): True target values.\n",
        "        y_pred (array-like): Predicted target values.\n",
        "\n",
        "    Returns:\n",
        "        float: Youden's Index.\n",
        "    \"\"\"\n",
        "    cm = confusion_matrix(y_true, y_pred)\n",
        "    sensitivity = cm[1, 1] / (cm[1, 0] + cm[1, 1])\n",
        "    specificity = cm[0, 0] / (cm[0, 0] + cm[0, 1])\n",
        "    return sensitivity + specificity - 1\n",
        "\n",
        "def test_fasttext_svm(new_dataset_path, text_column, label_column, fasttext_model_path):\n",
        "    \"\"\"\n",
        "    Test FastText model with SVM classifier.\n",
        "\n",
        "    Args:\n",
        "        new_dataset_path (str): Path to the new dataset CSV file.\n",
        "        text_column (str): Column name for text data.\n",
        "        label_column (str): Column name for label data.\n",
        "        fasttext_model_path (str): Path to the trained FastText model file.\n",
        "\n",
        "    Returns:\n",
        "        None\n",
        "    \"\"\"\n",
        "    dataset = pd.read_csv(new_dataset_path, sep=\";\")\n",
        "    dataset.dropna(subset=[label_column], inplace=True)\n",
        "    texts = dataset[text_column].tolist()\n",
        "    labels = dataset[label_column].tolist()\n",
        "    texts = [preprocess_text(text) for text in texts]\n",
        "    labels = [f'__label__{int(label)}' for label in labels]\n",
        "    model = fasttext.load_model(fasttext_model_path)\n",
        "    X = [vectorize(text, model) for text in texts]\n",
        "    y = [int(label.replace('__label__', '')) for label in labels]\n",
        "\n",
        "    X_train, X_test, y_train, y_test = train_test_split(X, y, test_size=0.2, random_state=42)\n",
        "    smote = SMOTE(random_state=42)\n",
        "    X_train_resampled, y_train_resampled = smote.fit_resample(X_train, y_train)\n",
        "\n",
        "    param_grid = {\n",
        "        'C': [0.1, 1, 10, 100],\n",
        "        'kernel': ['linear', 'poly', 'rbf', 'sigmoid'],\n",
        "        'degree': [2, 3, 4],\n",
        "        'gamma': ['scale', 'auto']\n",
        "    }\n",
        "\n",
        "    svm_classifier = svm.SVC()\n",
        "    grid_search = GridSearchCV(estimator=svm_classifier, param_grid=param_grid, cv=5, n_jobs=-1, scoring='accuracy')\n",
        "    grid_search.fit(X_train_resampled, y_train_resampled)\n",
        "    best_svm_classifier = grid_search.best_estimator_\n",
        "\n",
        "    scores = cross_val_score(best_svm_classifier, X, y, cv=5, scoring='accuracy')\n",
        "    print(f\"Cross-validation scores: {scores}\")\n",
        "    print(f\"Mean cross-validation score: {np.mean(scores)}\")\n",
        "\n",
        "    y_pred = cross_val_predict(best_svm_classifier, X, y, cv=5)\n",
        "\n",
        "    print(\"\\nPerformance metrics on the entire dataset:\")\n",
        "    print(classification_report(y, y_pred))\n",
        "    print(f\"Cohen's Kappa: {cohen_kappa_score(y, y_pred)}\")\n",
        "    print(f\"Youden's Index: {youdens_index(y, y_pred)}\")\n",
        "\n",
        "    conf_matrix = confusion_matrix(y, y_pred)\n",
        "    plt.figure(figsize=(10, 5))\n",
        "    sns.heatmap(conf_matrix, annot=True, fmt='d', cmap='Blues', xticklabels=['Negative', 'Neutral', 'Positive'], yticklabels=['Negative', 'Neutral', 'Positive'])\n",
        "    plt.xlabel('Predicted')\n",
        "    plt.ylabel('Actual')\n",
        "    plt.title('Confusion Matrix')\n",
        "    plt.show()\n",
        "\n",
        "def upload(file_path):\n",
        "    \"\"\"\n",
        "    Load data from a CSV file.\n",
        "\n",
        "    Args:\n",
        "        file_path (str): Path to the CSV file.\n",
        "\n",
        "    Returns:\n",
        "        str: Full path to the downloaded file.\n",
        "    \"\"\"\n",
        "    folder_id = '1DMy1eWI-45E-N08ez_7r5PMcu4Hk-YJC'  # Aqui é o id da pasta\n",
        "    url = f'https://drive.google.com/drive/folders/{folder_id}?usp=sharing'\n",
        "    gdown.download_folder(url, quiet=False, use_cookies=False)\n",
        "    file_path_full = os.path.join(\"Grupo1\", file_path)  # Ajuste para procurar na subpasta \"Grupo1\"\n",
        "    if os.path.exists(file_path_full):\n",
        "        return file_path_full\n",
        "    else:\n",
        "        raise FileNotFoundError(f\"O arquivo {file_path} não foi encontrado na pasta do Google Drive.\")\n",
        "\n",
        "# Load new dataset and test the FastText model with SVM classifier\n",
        "new_dataset_path = upload(\"new_dataset.csv\")\n",
        "text_column = 'comment'\n",
        "label_column = 'sentiment'\n",
        "fasttext_model_path = 'fasttext_model_hs.bin'\n",
        "test_fasttext_svm(new_dataset_path, text_column, label_column, fasttext_model_path)\n"
      ]
    },
    {
      "cell_type": "markdown",
      "metadata": {
        "id": "RaZMxQY_GUOO"
      },
      "source": [
        "### **Conclusion**\n",
        "The results indicate that the FastText+SVM model performs well, with good accuracy and balance between precision and recall across different classes. The use of advanced preprocessing techniques, class balancing, and hyperparameter tuning contributed to the model's improved performance. However, there is room for further improvement, especially in distinguishing between the negative and neutral classes.\n",
        "\n",
        "\n",
        "\n",
        "\n",
        "\n",
        "\n",
        "\n"
      ]
    },
    {
      "cell_type": "code",
      "execution_count": null,
      "metadata": {
        "id": "JjyelvwXGuyd"
      },
      "outputs": [],
      "source": []
    }
  ],
  "metadata": {
    "accelerator": "GPU",
    "colab": {
      "gpuType": "T4",
      "provenance": []
    },
    "kernelspec": {
      "display_name": "Python 3",
      "name": "python3"
    },
    "language_info": {
      "name": "python"
    }
  },
  "nbformat": 4,
  "nbformat_minor": 0
}